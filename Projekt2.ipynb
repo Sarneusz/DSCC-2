{
 "cells": [
  {
   "cell_type": "markdown",
   "source": [
    "# Projekt 2"
   ],
   "metadata": {
    "collapsed": false
   },
   "id": "3e271e3573cf8cba"
  },
  {
   "cell_type": "markdown",
   "source": [
    "Importy podstawowych bibliotek"
   ],
   "metadata": {
    "collapsed": false
   },
   "id": "e2a0a20c60b54efe"
  },
  {
   "cell_type": "code",
   "outputs": [],
   "source": [
    "import pandas as pd\n",
    "import numpy as np\n",
    "import seaborn as sns\n",
    "import matplotlib.pyplot as plt"
   ],
   "metadata": {
    "collapsed": false,
    "ExecuteTime": {
     "end_time": "2024-01-24T21:20:32.013296300Z",
     "start_time": "2024-01-24T21:20:31.772038Z"
    }
   },
   "id": "68eb2baf06dda33f",
   "execution_count": 148
  },
  {
   "cell_type": "code",
   "outputs": [],
   "source": [
    "pd.set_option('display.max_columns', None)"
   ],
   "metadata": {
    "collapsed": false,
    "ExecuteTime": {
     "end_time": "2024-01-24T21:20:32.042297800Z",
     "start_time": "2024-01-24T21:20:32.016298200Z"
    }
   },
   "id": "6bd7b4fcdd5ea8b1",
   "execution_count": 149
  },
  {
   "cell_type": "markdown",
   "source": [
    "Wczytanie danych"
   ],
   "metadata": {
    "collapsed": false
   },
   "id": "8133da5113fbbc1c"
  },
  {
   "cell_type": "code",
   "outputs": [],
   "source": [
    "train_df = pd.read_csv('../data/train.csv')"
   ],
   "metadata": {
    "collapsed": false,
    "ExecuteTime": {
     "end_time": "2024-01-24T21:20:32.067298900Z",
     "start_time": "2024-01-24T21:20:32.027298600Z"
    }
   },
   "id": "e89c8697f18f762e",
   "execution_count": 150
  },
  {
   "cell_type": "markdown",
   "source": [
    "Podstawowe informacje o danych"
   ],
   "metadata": {
    "collapsed": false
   },
   "id": "4cb1dfde121deedf"
  },
  {
   "cell_type": "code",
   "outputs": [
    {
     "name": "stdout",
     "output_type": "stream",
     "text": [
      "<class 'pandas.core.frame.DataFrame'>\n",
      "RangeIndex: 891 entries, 0 to 890\n",
      "Data columns (total 12 columns):\n",
      " #   Column       Non-Null Count  Dtype  \n",
      "---  ------       --------------  -----  \n",
      " 0   PassengerId  891 non-null    int64  \n",
      " 1   Survived     891 non-null    int64  \n",
      " 2   Pclass       891 non-null    int64  \n",
      " 3   Name         891 non-null    object \n",
      " 4   Sex          891 non-null    object \n",
      " 5   Age          714 non-null    float64\n",
      " 6   SibSp        891 non-null    int64  \n",
      " 7   Parch        891 non-null    int64  \n",
      " 8   Ticket       891 non-null    object \n",
      " 9   Fare         891 non-null    float64\n",
      " 10  Cabin        204 non-null    object \n",
      " 11  Embarked     889 non-null    object \n",
      "dtypes: float64(2), int64(5), object(5)\n",
      "memory usage: 83.7+ KB\n"
     ]
    }
   ],
   "source": [
    "train_df.info()"
   ],
   "metadata": {
    "collapsed": false,
    "ExecuteTime": {
     "end_time": "2024-01-24T21:20:32.068296900Z",
     "start_time": "2024-01-24T21:20:32.044298100Z"
    }
   },
   "id": "6ce88f6076a99ab7",
   "execution_count": 151
  },
  {
   "cell_type": "code",
   "outputs": [
    {
     "data": {
      "text/plain": "   PassengerId  Survived  Pclass  \\\n0            1         0       3   \n1            2         1       1   \n2            3         1       3   \n3            4         1       1   \n4            5         0       3   \n\n                                                Name     Sex   Age  SibSp  \\\n0                            Braund, Mr. Owen Harris    male  22.0      1   \n1  Cumings, Mrs. John Bradley (Florence Briggs Th...  female  38.0      1   \n2                             Heikkinen, Miss. Laina  female  26.0      0   \n3       Futrelle, Mrs. Jacques Heath (Lily May Peel)  female  35.0      1   \n4                           Allen, Mr. William Henry    male  35.0      0   \n\n   Parch            Ticket     Fare Cabin Embarked  \n0      0         A/5 21171   7.2500   NaN        S  \n1      0          PC 17599  71.2833   C85        C  \n2      0  STON/O2. 3101282   7.9250   NaN        S  \n3      0            113803  53.1000  C123        S  \n4      0            373450   8.0500   NaN        S  ",
      "text/html": "<div>\n<style scoped>\n    .dataframe tbody tr th:only-of-type {\n        vertical-align: middle;\n    }\n\n    .dataframe tbody tr th {\n        vertical-align: top;\n    }\n\n    .dataframe thead th {\n        text-align: right;\n    }\n</style>\n<table border=\"1\" class=\"dataframe\">\n  <thead>\n    <tr style=\"text-align: right;\">\n      <th></th>\n      <th>PassengerId</th>\n      <th>Survived</th>\n      <th>Pclass</th>\n      <th>Name</th>\n      <th>Sex</th>\n      <th>Age</th>\n      <th>SibSp</th>\n      <th>Parch</th>\n      <th>Ticket</th>\n      <th>Fare</th>\n      <th>Cabin</th>\n      <th>Embarked</th>\n    </tr>\n  </thead>\n  <tbody>\n    <tr>\n      <th>0</th>\n      <td>1</td>\n      <td>0</td>\n      <td>3</td>\n      <td>Braund, Mr. Owen Harris</td>\n      <td>male</td>\n      <td>22.0</td>\n      <td>1</td>\n      <td>0</td>\n      <td>A/5 21171</td>\n      <td>7.2500</td>\n      <td>NaN</td>\n      <td>S</td>\n    </tr>\n    <tr>\n      <th>1</th>\n      <td>2</td>\n      <td>1</td>\n      <td>1</td>\n      <td>Cumings, Mrs. John Bradley (Florence Briggs Th...</td>\n      <td>female</td>\n      <td>38.0</td>\n      <td>1</td>\n      <td>0</td>\n      <td>PC 17599</td>\n      <td>71.2833</td>\n      <td>C85</td>\n      <td>C</td>\n    </tr>\n    <tr>\n      <th>2</th>\n      <td>3</td>\n      <td>1</td>\n      <td>3</td>\n      <td>Heikkinen, Miss. Laina</td>\n      <td>female</td>\n      <td>26.0</td>\n      <td>0</td>\n      <td>0</td>\n      <td>STON/O2. 3101282</td>\n      <td>7.9250</td>\n      <td>NaN</td>\n      <td>S</td>\n    </tr>\n    <tr>\n      <th>3</th>\n      <td>4</td>\n      <td>1</td>\n      <td>1</td>\n      <td>Futrelle, Mrs. Jacques Heath (Lily May Peel)</td>\n      <td>female</td>\n      <td>35.0</td>\n      <td>1</td>\n      <td>0</td>\n      <td>113803</td>\n      <td>53.1000</td>\n      <td>C123</td>\n      <td>S</td>\n    </tr>\n    <tr>\n      <th>4</th>\n      <td>5</td>\n      <td>0</td>\n      <td>3</td>\n      <td>Allen, Mr. William Henry</td>\n      <td>male</td>\n      <td>35.0</td>\n      <td>0</td>\n      <td>0</td>\n      <td>373450</td>\n      <td>8.0500</td>\n      <td>NaN</td>\n      <td>S</td>\n    </tr>\n  </tbody>\n</table>\n</div>"
     },
     "execution_count": 152,
     "metadata": {},
     "output_type": "execute_result"
    }
   ],
   "source": [
    "train_df.head()"
   ],
   "metadata": {
    "collapsed": false,
    "ExecuteTime": {
     "end_time": "2024-01-24T21:20:32.083306500Z",
     "start_time": "2024-01-24T21:20:32.068296900Z"
    }
   },
   "id": "24405ddf51178003",
   "execution_count": 152
  },
  {
   "cell_type": "markdown",
   "source": [],
   "metadata": {
    "collapsed": false
   },
   "id": "59dcac89df583d17"
  },
  {
   "cell_type": "markdown",
   "source": [
    "W zbiorze treningowym znajduje się 891 wierszy i 12 kolumn, a w zbiorze testowym 418 wierszy i 11 kolumn. W zbiorze testowym brakuje kolumny Survived, którą będziemy chcieli przewidzieć.\n",
    "\n",
    "PassengerId: Identyfikator pasażera\n",
    "Survived: Informacja, czy pasażer przeżył (1) czy nie (0)\n",
    "Pclass: Klasa biletu pasażera (1, 2, 3)\n",
    "Name: Nazwisko i imię pasażera\n",
    "Sex: Płeć pasażera\n",
    "Age: Wiek pasażera\n",
    "SibSp: Liczba rodzeństwa / współmałżonków na pokładzie\n",
    "Parch: Liczba rodziców / dzieci na pokładzie\n",
    "Ticket: Numer biletu\n",
    "Fare: Opłata za przejazd\n",
    "Cabin: Numer kabiny\n",
    "Embarked: Port, z którego pasażer wsiadł na pokład (C = Cherbourg, Q = Queenstown, S = Southampton)"
   ],
   "metadata": {
    "collapsed": false
   },
   "id": "7323214b4041b421"
  },
  {
   "cell_type": "markdown",
   "source": [],
   "metadata": {
    "collapsed": false
   },
   "id": "23d760a4529d9b41"
  },
  {
   "cell_type": "markdown",
   "source": [
    "# Zadanie 1\n",
    "\n",
    "Zacznij od pobrania danych, a następnie załaduj plik „train.csv” do przestrzeni roboczej swojego projektu. Czemu nie ładujemy pliku „test.csv”? Ponieważ nie posiada on kolumny Survived, a co za tym idzie nie przyda Ci się on przy uczeniu modelu. Wspomnianą kolumnę będziesz musiał ręcznie utworzyć i uzupełnić jej wartości z pomocą zbudowanego algorytmu. Wszystko to nie oznacza jednak, że plik „test.csv” jest zupełnie bezużyteczny na etapie budowania modelu. Wykorzystaj go do uzupełnienia brakujących wartości w pliku „train.csv” (oraz do weryfikacji skuteczności modelu, o czym później). By przyjrzeć się nieco bliżej danym, dokonaj sumaryzacji danych. Pozwoli Ci to podejrzeć podstawowe metryki dla każdej kolumny, np. wartości minimalne, wartości maksymalne, średnią, medianę, itd. Spróbuj odnaleźć błędy w danych – brakujące wartości, błędna interpretacja rodzaju zmiennych itp. Zastanów się, które atrybuty wybrać do analizy (pod kątem ich istotności dla przewidywań modelu), czy i jak uzupełnić brakujące dane, dokonać ich transformacji itd."
   ],
   "metadata": {
    "collapsed": false
   },
   "id": "2b2f1452f1a877c7"
  },
  {
   "cell_type": "markdown",
   "source": [
    "Wstępna analiza zbioru, podstawowe statystyki.\n",
    "\n",
    "Podsumowanie kolumn numerycznych"
   ],
   "metadata": {
    "collapsed": false
   },
   "id": "bd39e4e161e59fd"
  },
  {
   "cell_type": "code",
   "outputs": [
    {
     "data": {
      "text/plain": "       PassengerId    Survived      Pclass         Age       SibSp  \\\ncount   891.000000  891.000000  891.000000  714.000000  891.000000   \nmean    446.000000    0.383838    2.308642   29.699118    0.523008   \nstd     257.353842    0.486592    0.836071   14.526497    1.102743   \nmin       1.000000    0.000000    1.000000    0.420000    0.000000   \n25%     223.500000    0.000000    2.000000   20.125000    0.000000   \n50%     446.000000    0.000000    3.000000   28.000000    0.000000   \n75%     668.500000    1.000000    3.000000   38.000000    1.000000   \nmax     891.000000    1.000000    3.000000   80.000000    8.000000   \n\n            Parch        Fare  \ncount  891.000000  891.000000  \nmean     0.381594   32.204208  \nstd      0.806057   49.693429  \nmin      0.000000    0.000000  \n25%      0.000000    7.910400  \n50%      0.000000   14.454200  \n75%      0.000000   31.000000  \nmax      6.000000  512.329200  ",
      "text/html": "<div>\n<style scoped>\n    .dataframe tbody tr th:only-of-type {\n        vertical-align: middle;\n    }\n\n    .dataframe tbody tr th {\n        vertical-align: top;\n    }\n\n    .dataframe thead th {\n        text-align: right;\n    }\n</style>\n<table border=\"1\" class=\"dataframe\">\n  <thead>\n    <tr style=\"text-align: right;\">\n      <th></th>\n      <th>PassengerId</th>\n      <th>Survived</th>\n      <th>Pclass</th>\n      <th>Age</th>\n      <th>SibSp</th>\n      <th>Parch</th>\n      <th>Fare</th>\n    </tr>\n  </thead>\n  <tbody>\n    <tr>\n      <th>count</th>\n      <td>891.000000</td>\n      <td>891.000000</td>\n      <td>891.000000</td>\n      <td>714.000000</td>\n      <td>891.000000</td>\n      <td>891.000000</td>\n      <td>891.000000</td>\n    </tr>\n    <tr>\n      <th>mean</th>\n      <td>446.000000</td>\n      <td>0.383838</td>\n      <td>2.308642</td>\n      <td>29.699118</td>\n      <td>0.523008</td>\n      <td>0.381594</td>\n      <td>32.204208</td>\n    </tr>\n    <tr>\n      <th>std</th>\n      <td>257.353842</td>\n      <td>0.486592</td>\n      <td>0.836071</td>\n      <td>14.526497</td>\n      <td>1.102743</td>\n      <td>0.806057</td>\n      <td>49.693429</td>\n    </tr>\n    <tr>\n      <th>min</th>\n      <td>1.000000</td>\n      <td>0.000000</td>\n      <td>1.000000</td>\n      <td>0.420000</td>\n      <td>0.000000</td>\n      <td>0.000000</td>\n      <td>0.000000</td>\n    </tr>\n    <tr>\n      <th>25%</th>\n      <td>223.500000</td>\n      <td>0.000000</td>\n      <td>2.000000</td>\n      <td>20.125000</td>\n      <td>0.000000</td>\n      <td>0.000000</td>\n      <td>7.910400</td>\n    </tr>\n    <tr>\n      <th>50%</th>\n      <td>446.000000</td>\n      <td>0.000000</td>\n      <td>3.000000</td>\n      <td>28.000000</td>\n      <td>0.000000</td>\n      <td>0.000000</td>\n      <td>14.454200</td>\n    </tr>\n    <tr>\n      <th>75%</th>\n      <td>668.500000</td>\n      <td>1.000000</td>\n      <td>3.000000</td>\n      <td>38.000000</td>\n      <td>1.000000</td>\n      <td>0.000000</td>\n      <td>31.000000</td>\n    </tr>\n    <tr>\n      <th>max</th>\n      <td>891.000000</td>\n      <td>1.000000</td>\n      <td>3.000000</td>\n      <td>80.000000</td>\n      <td>8.000000</td>\n      <td>6.000000</td>\n      <td>512.329200</td>\n    </tr>\n  </tbody>\n</table>\n</div>"
     },
     "execution_count": 153,
     "metadata": {},
     "output_type": "execute_result"
    }
   ],
   "source": [
    "train_df.describe()"
   ],
   "metadata": {
    "collapsed": false,
    "ExecuteTime": {
     "end_time": "2024-01-24T21:20:32.133304900Z",
     "start_time": "2024-01-24T21:20:32.082305Z"
    }
   },
   "id": "a4a724edcc5b2d8f",
   "execution_count": 153
  },
  {
   "cell_type": "markdown",
   "source": [
    "Podsumowanie kolumn kategorycznych\n"
   ],
   "metadata": {
    "collapsed": false
   },
   "id": "cb530284cfe78723"
  },
  {
   "cell_type": "code",
   "outputs": [
    {
     "data": {
      "text/plain": "                           Name   Sex  Ticket    Cabin Embarked\ncount                       891   891     891      204      889\nunique                      891     2     681      147        3\ntop     Braund, Mr. Owen Harris  male  347082  B96 B98        S\nfreq                          1   577       7        4      644",
      "text/html": "<div>\n<style scoped>\n    .dataframe tbody tr th:only-of-type {\n        vertical-align: middle;\n    }\n\n    .dataframe tbody tr th {\n        vertical-align: top;\n    }\n\n    .dataframe thead th {\n        text-align: right;\n    }\n</style>\n<table border=\"1\" class=\"dataframe\">\n  <thead>\n    <tr style=\"text-align: right;\">\n      <th></th>\n      <th>Name</th>\n      <th>Sex</th>\n      <th>Ticket</th>\n      <th>Cabin</th>\n      <th>Embarked</th>\n    </tr>\n  </thead>\n  <tbody>\n    <tr>\n      <th>count</th>\n      <td>891</td>\n      <td>891</td>\n      <td>891</td>\n      <td>204</td>\n      <td>889</td>\n    </tr>\n    <tr>\n      <th>unique</th>\n      <td>891</td>\n      <td>2</td>\n      <td>681</td>\n      <td>147</td>\n      <td>3</td>\n    </tr>\n    <tr>\n      <th>top</th>\n      <td>Braund, Mr. Owen Harris</td>\n      <td>male</td>\n      <td>347082</td>\n      <td>B96 B98</td>\n      <td>S</td>\n    </tr>\n    <tr>\n      <th>freq</th>\n      <td>1</td>\n      <td>577</td>\n      <td>7</td>\n      <td>4</td>\n      <td>644</td>\n    </tr>\n  </tbody>\n</table>\n</div>"
     },
     "execution_count": 154,
     "metadata": {},
     "output_type": "execute_result"
    }
   ],
   "source": [
    "train_df.describe(include = ['O'])"
   ],
   "metadata": {
    "collapsed": false,
    "ExecuteTime": {
     "end_time": "2024-01-24T21:20:32.150304600Z",
     "start_time": "2024-01-24T21:20:32.107308300Z"
    }
   },
   "id": "43c0354a6a1be2bf",
   "execution_count": 154
  },
  {
   "cell_type": "markdown",
   "source": [
    "Krótki opis i wstępna ocena czy nam się przyda czy nie:\n",
    "\n",
    "PassengerId: Liczby od 1 do 891, raczej nam się nie przyda do analizy.\n",
    "Survived: Średnio około 38% pasażerów przeżyło. Na pewno się przyda.\n",
    "Pclass: Większość pasażerów podróżowała w 3 klasie. Może się przydać.\n",
    "Name: Unikalne dla każdego pasażera. Zawiera tytuły, które możemy wykorzystać do uzupełnienia brakujących wartości wieku. Do przewidywania się raczej nie przyda.\n",
    "Sex: Większość pasażerów to mężczyźni (około 65%). Na pewno się przyda.\n",
    "Age: Średni wiek to około 29.7 lat, przy czym najmłodszy pasażer miał 0.42 roku, a najstarszy 80 lat. Na pewno się przyda.\n",
    "SibSp i Parch: Większość pasażerów podróżowała bez rodzeństwa, współmałżonków, rodziców lub dzieci. Może się przydać.\n",
    "Ticket: Unikalne numery biletów z kilkoma powtórzeniami. Raczej nam się nie przyda.\n",
    "Fare: Średnia opłata za bilet wynosi około 32, z dużym zakresem wahań. Może się przydać.\n",
    "Cabin: Dostępne tylko dla 204 pasażerów. Raczej nam się nie przyda.\n",
    "Embarked: Większość pasażerów wsiadła w Southampton (S). Nie wiem czy się przyda."
   ],
   "metadata": {
    "collapsed": false
   },
   "id": "de34be87db431433"
  },
  {
   "cell_type": "markdown",
   "source": [
    "Sprawdzenie wartości brakujących."
   ],
   "metadata": {
    "collapsed": false
   },
   "id": "b1ec174bcf6fe7d3"
  },
  {
   "cell_type": "code",
   "outputs": [
    {
     "data": {
      "text/plain": "Cabin       77.104377\nAge         19.865320\nEmbarked     0.224467\ndtype: float64"
     },
     "execution_count": 155,
     "metadata": {},
     "output_type": "execute_result"
    }
   ],
   "source": [
    "train_df_isna = train_df.isna().sum() > 0\n",
    "train_df.loc[:,train_df_isna].isna().sum().sort_values(ascending=False) / len(train_df)*100"
   ],
   "metadata": {
    "collapsed": false,
    "ExecuteTime": {
     "end_time": "2024-01-24T21:20:32.234312500Z",
     "start_time": "2024-01-24T21:20:32.138306200Z"
    }
   },
   "id": "25c0f32f2f0ac4d4",
   "execution_count": 155
  },
  {
   "cell_type": "markdown",
   "source": [
    "W zbiorze treningowym brakuje wartości dla kolumn Age, Cabin i Embarked. W przypadku kolumny Cabin brakuje aż 77% wartości, co jest bardzo dużym odsetkiem W Age brakuje blisko 20% wartości. W kolumnie Embarked brakuje tylko 0.22% wartości. Możemy wyrzucić kolumnę Cabin, ponieważ brakuje zbyt wielu wartości. W przypadku kolumn Age i Embarked możemy spróbować uzupełnić brakujące wartości.\n"
   ],
   "metadata": {
    "collapsed": false
   },
   "id": "58229f5a2eba2b27"
  },
  {
   "cell_type": "code",
   "outputs": [],
   "source": [
    "train_df.drop('Cabin', axis=1, inplace=True) # Zbyt dużo brakujących wartości\n",
    "train_df.drop('PassengerId', axis=1, inplace=True) # Nie przyda się do uczenia modelu\n",
    "\n",
    "# wyrzućmy też Ticket bo nic ciekawego z niego nie wyciągniemy\n",
    "train_df.drop('Ticket', axis=1, inplace=True) "
   ],
   "metadata": {
    "collapsed": false,
    "ExecuteTime": {
     "end_time": "2024-01-24T21:20:32.261311900Z",
     "start_time": "2024-01-24T21:20:32.186312400Z"
    }
   },
   "id": "e4c643013ce4776a",
   "execution_count": 156
  },
  {
   "cell_type": "markdown",
   "source": [
    "Zobaczmy sobie, jak wyglądają wygląda stosunek wieku do przeżycia."
   ],
   "metadata": {
    "collapsed": false
   },
   "id": "16e4aa491779cdd5"
  },
  {
   "cell_type": "code",
   "outputs": [
    {
     "data": {
      "text/plain": "<seaborn.axisgrid.FacetGrid at 0x20a9f863190>"
     },
     "execution_count": 157,
     "metadata": {},
     "output_type": "execute_result"
    },
    {
     "data": {
      "text/plain": "<Figure size 600x300 with 2 Axes>",
      "image/png": "[encoded data removed]"
     },
     "metadata": {},
     "output_type": "display_data"
    }
   ],
   "source": [
    "s = sns.FacetGrid(train_df, col='Survived')\n",
    "s.map(plt.hist, 'Age', bins=20)"
   ],
   "metadata": {
    "collapsed": false,
    "ExecuteTime": {
     "end_time": "2024-01-24T21:20:32.543330300Z",
     "start_time": "2024-01-24T21:20:32.264313800Z"
    }
   },
   "id": "3c2b862117fd7c2c",
   "execution_count": 157
  },
  {
   "cell_type": "markdown",
   "source": [
    "Bobasy (wiek <= 4) charakteryzowały się wysokim współczynnikiem przeżycia.\n",
    "Najstarsi pasażerowie (wiek = 80 lat) przeżyli.\n",
    "Duża liczba osób w wieku 15–30 lat nie przeżyła.\n",
    "Większość pasażerów to osoby w wieku 15–35 lat.\n",
    "80 letni pasażer przeżył."
   ],
   "metadata": {
    "collapsed": false
   },
   "id": "2cfae98388ee7c69"
  },
  {
   "cell_type": "markdown",
   "source": [
    "Zobaczmy, jak wygląda stosunek liczby przeżyć do smierci."
   ],
   "metadata": {
    "collapsed": false
   },
   "id": "94a23095b6d2bf30"
  },
  {
   "cell_type": "code",
   "outputs": [
    {
     "data": {
      "text/plain": "<Axes: xlabel='Survived', ylabel='count'>"
     },
     "execution_count": 158,
     "metadata": {},
     "output_type": "execute_result"
    },
    {
     "data": {
      "text/plain": "<Figure size 640x480 with 1 Axes>",
      "image/png": "[encoded data removed]"
     },
     "metadata": {},
     "output_type": "display_data"
    }
   ],
   "source": [
    "sns.countplot(x='Survived', data=train_df)"
   ],
   "metadata": {
    "collapsed": false,
    "ExecuteTime": {
     "end_time": "2024-01-24T21:20:32.605340100Z",
     "start_time": "2024-01-24T21:20:32.530330500Z"
    }
   },
   "id": "b68be03f010f32a2",
   "execution_count": 158
  },
  {
   "cell_type": "markdown",
   "source": [
    "Większość pasażerów nie przeżyła."
   ],
   "metadata": {
    "collapsed": false
   },
   "id": "8b7ff1aea193bc97"
  },
  {
   "cell_type": "markdown",
   "source": [
    "Zobaczmy, jak wygląda stosunek pclass do przeżycia. Niech na dole będą klasy 1,2,3"
   ],
   "metadata": {
    "collapsed": false
   },
   "id": "e1d20d4feb1b52dd"
  },
  {
   "cell_type": "code",
   "outputs": [
    {
     "name": "stderr",
     "output_type": "stream",
     "text": [
      "C:\\Users\\Mateusz\\PycharmProjects\\Projekt_2\\.venv\\lib\\site-packages\\seaborn\\_base.py:949: FutureWarning: When grouping with a length-1 list-like, you will need to pass a length-1 tuple to get_group in a future version of pandas. Pass `(name,)` instead of `name` to silence this warning.\n",
      "  data_subset = grouped_data.get_group(pd_key)\n",
      "C:\\Users\\Mateusz\\PycharmProjects\\Projekt_2\\.venv\\lib\\site-packages\\seaborn\\_base.py:949: FutureWarning: When grouping with a length-1 list-like, you will need to pass a length-1 tuple to get_group in a future version of pandas. Pass `(name,)` instead of `name` to silence this warning.\n",
      "  data_subset = grouped_data.get_group(pd_key)\n"
     ]
    },
    {
     "data": {
      "text/plain": "<Axes: xlabel='Pclass', ylabel='count'>"
     },
     "execution_count": 159,
     "metadata": {},
     "output_type": "execute_result"
    },
    {
     "data": {
      "text/plain": "<Figure size 640x480 with 1 Axes>",
      "image/png": "[encoded data removed]"
     },
     "metadata": {},
     "output_type": "display_data"
    }
   ],
   "source": [
    "sns.countplot(x='Pclass', hue='Survived', data=train_df)"
   ],
   "metadata": {
    "collapsed": false,
    "ExecuteTime": {
     "end_time": "2024-01-24T21:20:32.706347200Z",
     "start_time": "2024-01-24T21:20:32.593339400Z"
    }
   },
   "id": "13cc3a2d73e5643b",
   "execution_count": 159
  },
  {
   "cell_type": "markdown",
   "source": [
    "Większość pasażerów podróżowała w 3 klasie, ale większość osób, które przeżyły, podróżowała w 1 klasie."
   ],
   "metadata": {
    "collapsed": false
   },
   "id": "247bb780de943f94"
  },
  {
   "cell_type": "markdown",
   "source": [
    "Zobaczmy jak wygląda stosunek płci do przeżywalności."
   ],
   "metadata": {
    "collapsed": false
   },
   "id": "99649f5863759101"
  },
  {
   "cell_type": "code",
   "outputs": [
    {
     "name": "stderr",
     "output_type": "stream",
     "text": [
      "C:\\Users\\Mateusz\\PycharmProjects\\Projekt_2\\.venv\\lib\\site-packages\\seaborn\\_base.py:949: FutureWarning: When grouping with a length-1 list-like, you will need to pass a length-1 tuple to get_group in a future version of pandas. Pass `(name,)` instead of `name` to silence this warning.\n",
      "  data_subset = grouped_data.get_group(pd_key)\n",
      "C:\\Users\\Mateusz\\PycharmProjects\\Projekt_2\\.venv\\lib\\site-packages\\seaborn\\_base.py:949: FutureWarning: When grouping with a length-1 list-like, you will need to pass a length-1 tuple to get_group in a future version of pandas. Pass `(name,)` instead of `name` to silence this warning.\n",
      "  data_subset = grouped_data.get_group(pd_key)\n"
     ]
    },
    {
     "data": {
      "text/plain": "<Axes: xlabel='Sex', ylabel='count'>"
     },
     "execution_count": 160,
     "metadata": {},
     "output_type": "execute_result"
    },
    {
     "data": {
      "text/plain": "<Figure size 640x480 with 1 Axes>",
      "image/png": "[encoded data removed]"
     },
     "metadata": {},
     "output_type": "display_data"
    }
   ],
   "source": [
    "sns.countplot(x='Sex', hue='Survived', data=train_df)"
   ],
   "metadata": {
    "collapsed": false,
    "ExecuteTime": {
     "end_time": "2024-01-24T21:20:32.826342Z",
     "start_time": "2024-01-24T21:20:32.690347Z"
    }
   },
   "id": "6ac77935049f70ff",
   "execution_count": 160
  },
  {
   "cell_type": "markdown",
   "source": [
    "Większość pasażerów to mężczyźni, ale większość osób, które przeżyły, to kobiety."
   ],
   "metadata": {
    "collapsed": false
   },
   "id": "8b657b80211c2e70"
  },
  {
   "cell_type": "markdown",
   "source": [
    "# Zadanie 2."
   ],
   "metadata": {
    "collapsed": false
   },
   "id": "2a8415e15fa4f87"
  },
  {
   "cell_type": "markdown",
   "source": [
    "Feature Engineering Na przykład, w kwestii uzupełniania wartości kolumny „Age”, po analizie danych możesz dojść do kilku wniosków, które przedstawiają się następująco: • Wszystkie kobiety o tytule „Miss”, które nie mają dzieci, to damy o średnim wieku … lat. • Panowie noszący tytuł „Master”, to kawalerzy, których średnia wieku to ok. … roku. • „Sir”, „Mr”, „Ms” i „Mrs” to z małymi wyjątkami dojrzałe osoby. Wiek dla wszystkich z nich uzupełnij, posiłkując się średnią dla danej grupy. • Wszyscy panowie z tytułem „Dr”, to dojrzali mężczyźni o średniej wieku … lata. Wiek dla wszystkich powyższych grup uzupełnij, posiłkując się średnią dla danej grupy. Podobnie, dla wszystkich innych osób, które nie mają podanego wieku, uzupełnij ich wiek średnią dla danej płci. Utwórz trzy dodatkowe zmienne, których użyjesz w dalszej części eksperymentu: „Family.Size” – poprzez dodanie do siebie dwóch istniejących wartości: „Parch” i „SibSp”, oraz liczby 1, odpowiadającej za daną osobę. Intuicyjnie można przyjąć, że wielkość rodziny mogła mieć znaczący wpływ na to czy komuś udało się przeżyć, czy też nie. „Age.Range” – jest to zmienna kategoryczna, która przypisuje pasażera do jednej z czterech kategorii wiekowych: „Bobas”, „Dzieciak”, „Nastolatek”, „Dorosly”. Mamy tu na uwadze zasadę „women and children first”. Przyjmij wiek 6, 12 i 18 lat jako punkty podziału zbioru. „MPC” – zmienna, która ma „uwypuklić” szanse na przeżycie dzieci i osób z pierwszej klasy. Jest ona wynikiem mnożenia wieku danej osoby i klasy, w której podróżowała. Dla przykładu, 5-letnie dziecko podróżujące w pierwszej klasie (wynik = 5), miało dużo większe szanse na przetrwanie katastrofy niż 70 letni pan podróżujący klasą trzecią (wynik = 210). Te trzy dodatkowe zmienne będą dobrym punktem wyjścia do walki o jak najwyższy wynik Twojego modelu."
   ],
   "metadata": {
    "collapsed": false
   },
   "id": "a341aa2f7c69372b"
  },
  {
   "cell_type": "markdown",
   "source": [
    "Zaczniemy od wyodrębnienia tytułów z nazwisk, oraz obliczenia średniej wieku dla każdego tytułu."
   ],
   "metadata": {
    "collapsed": false
   },
   "id": "dd14b5b821b8c35b"
  },
  {
   "cell_type": "code",
   "outputs": [
    {
     "data": {
      "text/plain": "{'Capt': 70.0,\n 'Col': 58.0,\n 'Countess': 33.0,\n 'Don': 40.0,\n 'Dr': 42.0,\n 'Jonkheer': 38.0,\n 'Lady': 48.0,\n 'Major': 48.5,\n 'Master': 4.574166666666667,\n 'Miss': 21.773972602739725,\n 'Mlle': 24.0,\n 'Mme': 24.0,\n 'Mr': 32.368090452261306,\n 'Mrs': 35.898148148148145,\n 'Ms': 28.0,\n 'Rev': 43.166666666666664,\n 'Sir': 49.0}"
     },
     "execution_count": 161,
     "metadata": {},
     "output_type": "execute_result"
    }
   ],
   "source": [
    "import re\n",
    "\n",
    "# Funkcja do wyodrębniania tytułów z nazwisk\n",
    "def extract_title(name):\n",
    "    title_search = re.search(' ([A-Za-z]+)\\.', name)\n",
    "    if title_search:\n",
    "        return title_search.group(1)\n",
    "    return \"\"\n",
    "\n",
    "# Zastosowanie funkcji do zbioru danych\n",
    "train_df['Title'] = train_df['Name'].apply(extract_title)\n",
    "\n",
    "# Grupowanie danych na podstawie tytułów i obliczanie średniej wieku dla każdej grupy\n",
    "title_age_mean = train_df.groupby('Title')['Age'].mean().to_dict()\n",
    "\n",
    "# zaokrąglenie do liczb całkowitych # ZREZYGNOWAŁEM Z TEGO BO WYNIKI BYŁY GORSZE\n",
    "# title_age_mean = {k: int(v) for k, v in title_age_mean.items()}\n",
    "\n",
    "title_age_mean"
   ],
   "metadata": {
    "collapsed": false,
    "ExecuteTime": {
     "end_time": "2024-01-24T21:20:32.827344600Z",
     "start_time": "2024-01-24T21:20:32.786344100Z"
    }
   },
   "id": "c183112ced1e3111",
   "execution_count": 161
  },
  {
   "cell_type": "markdown",
   "source": [
    "Uzupełnienie brakujących wartości wieku średnią wieku dla każdego tytułu."
   ],
   "metadata": {
    "collapsed": false
   },
   "id": "2c8e750f521915b5"
  },
  {
   "cell_type": "code",
   "outputs": [
    {
     "data": {
      "text/plain": "177"
     },
     "execution_count": 162,
     "metadata": {},
     "output_type": "execute_result"
    }
   ],
   "source": [
    "missing_age_before = train_df['Age'].isnull().sum()\n",
    "missing_age_before"
   ],
   "metadata": {
    "collapsed": false,
    "ExecuteTime": {
     "end_time": "2024-01-24T21:20:32.887349300Z",
     "start_time": "2024-01-24T21:20:32.800344900Z"
    }
   },
   "id": "9cf1365f4321876b",
   "execution_count": 162
  },
  {
   "cell_type": "code",
   "outputs": [
    {
     "data": {
      "text/plain": "0"
     },
     "execution_count": 163,
     "metadata": {},
     "output_type": "execute_result"
    }
   ],
   "source": [
    "# Uzupełnianie brakujących wartości wieku\n",
    "def fill_missing_age(row):\n",
    "    if pd.isnull(row['Age']):\n",
    "        return title_age_mean[row['Title']]\n",
    "    return row['Age']\n",
    "\n",
    "train_df['Age'] = train_df.apply(fill_missing_age, axis=1)\n",
    "\n",
    "# Sprawdzenie, czy wszystkie brakujące wartości wieku zostały uzupełnione\n",
    "missing_age_after = train_df['Age'].isnull().sum()\n",
    "\n",
    "# Zaokrąglenie wieku do liczb całkowitych # ZREZYGNOWAŁEM Z TEGO BO WYNIKI BYŁY GORSZE\n",
    "# train_df['Age'] = train_df['Age'].astype(int)\n",
    "\n",
    "missing_age_after"
   ],
   "metadata": {
    "collapsed": false,
    "ExecuteTime": {
     "end_time": "2024-01-24T21:20:32.906348900Z",
     "start_time": "2024-01-24T21:20:32.817344300Z"
    }
   },
   "id": "597533ea2292c101",
   "execution_count": 163
  },
  {
   "cell_type": "markdown",
   "source": [
    "Zamienimy wyekstrahowane tytuły na liczby.\n"
   ],
   "metadata": {
    "collapsed": false
   },
   "id": "da428798dd05a1d4"
  },
  {
   "cell_type": "code",
   "outputs": [],
   "source": [
    "train_df['Title'] = train_df['Title'].map({'Mr': 1, 'Miss': 2, 'Mrs': 3, 'Master': 4, 'Dr': 5, 'Rev': 6, 'Mlle': 7, 'Major': 8, 'Col': 9, 'Ms': 10, 'Mme': 11, 'Sir': 12, 'Capt': 13, 'Lady': 14, 'Jonkheer': 15, 'Don': 16, 'Countess': 17})"
   ],
   "metadata": {
    "collapsed": false,
    "ExecuteTime": {
     "end_time": "2024-01-24T21:20:32.907349Z",
     "start_time": "2024-01-24T21:20:32.831343Z"
    }
   },
   "id": "b71f2b70e9056115",
   "execution_count": 164
  },
  {
   "cell_type": "code",
   "outputs": [
    {
     "data": {
      "text/plain": "   Survived  Pclass                                               Name  \\\n0         0       3                            Braund, Mr. Owen Harris   \n1         1       1  Cumings, Mrs. John Bradley (Florence Briggs Th...   \n2         1       3                             Heikkinen, Miss. Laina   \n3         1       1       Futrelle, Mrs. Jacques Heath (Lily May Peel)   \n4         0       3                           Allen, Mr. William Henry   \n\n      Sex   Age  SibSp  Parch     Fare Embarked  Title  \n0    male  22.0      1      0   7.2500        S      1  \n1  female  38.0      1      0  71.2833        C      3  \n2  female  26.0      0      0   7.9250        S      2  \n3  female  35.0      1      0  53.1000        S      3  \n4    male  35.0      0      0   8.0500        S      1  ",
      "text/html": "<div>\n<style scoped>\n    .dataframe tbody tr th:only-of-type {\n        vertical-align: middle;\n    }\n\n    .dataframe tbody tr th {\n        vertical-align: top;\n    }\n\n    .dataframe thead th {\n        text-align: right;\n    }\n</style>\n<table border=\"1\" class=\"dataframe\">\n  <thead>\n    <tr style=\"text-align: right;\">\n      <th></th>\n      <th>Survived</th>\n      <th>Pclass</th>\n      <th>Name</th>\n      <th>Sex</th>\n      <th>Age</th>\n      <th>SibSp</th>\n      <th>Parch</th>\n      <th>Fare</th>\n      <th>Embarked</th>\n      <th>Title</th>\n    </tr>\n  </thead>\n  <tbody>\n    <tr>\n      <th>0</th>\n      <td>0</td>\n      <td>3</td>\n      <td>Braund, Mr. Owen Harris</td>\n      <td>male</td>\n      <td>22.0</td>\n      <td>1</td>\n      <td>0</td>\n      <td>7.2500</td>\n      <td>S</td>\n      <td>1</td>\n    </tr>\n    <tr>\n      <th>1</th>\n      <td>1</td>\n      <td>1</td>\n      <td>Cumings, Mrs. John Bradley (Florence Briggs Th...</td>\n      <td>female</td>\n      <td>38.0</td>\n      <td>1</td>\n      <td>0</td>\n      <td>71.2833</td>\n      <td>C</td>\n      <td>3</td>\n    </tr>\n    <tr>\n      <th>2</th>\n      <td>1</td>\n      <td>3</td>\n      <td>Heikkinen, Miss. Laina</td>\n      <td>female</td>\n      <td>26.0</td>\n      <td>0</td>\n      <td>0</td>\n      <td>7.9250</td>\n      <td>S</td>\n      <td>2</td>\n    </tr>\n    <tr>\n      <th>3</th>\n      <td>1</td>\n      <td>1</td>\n      <td>Futrelle, Mrs. Jacques Heath (Lily May Peel)</td>\n      <td>female</td>\n      <td>35.0</td>\n      <td>1</td>\n      <td>0</td>\n      <td>53.1000</td>\n      <td>S</td>\n      <td>3</td>\n    </tr>\n    <tr>\n      <th>4</th>\n      <td>0</td>\n      <td>3</td>\n      <td>Allen, Mr. William Henry</td>\n      <td>male</td>\n      <td>35.0</td>\n      <td>0</td>\n      <td>0</td>\n      <td>8.0500</td>\n      <td>S</td>\n      <td>1</td>\n    </tr>\n  </tbody>\n</table>\n</div>"
     },
     "execution_count": 165,
     "metadata": {},
     "output_type": "execute_result"
    }
   ],
   "source": [
    "train_df.head()"
   ],
   "metadata": {
    "collapsed": false,
    "ExecuteTime": {
     "end_time": "2024-01-24T21:20:32.945350500Z",
     "start_time": "2024-01-24T21:20:32.847352400Z"
    }
   },
   "id": "bdcfbf12a40fdd9b",
   "execution_count": 165
  },
  {
   "cell_type": "markdown",
   "source": [
    "Dodanie 3 nowych zmiennych z pdfa, które wykorzystamy później do walki o najlepszy wynik."
   ],
   "metadata": {
    "collapsed": false
   },
   "id": "d3225d202c65505"
  },
  {
   "cell_type": "code",
   "outputs": [
    {
     "data": {
      "text/plain": "   Family.Size  Age.Range    MPC\n0            2          4   66.0\n1            2          4   38.0\n2            1          4   78.0\n3            2          4   35.0\n4            1          4  105.0",
      "text/html": "<div>\n<style scoped>\n    .dataframe tbody tr th:only-of-type {\n        vertical-align: middle;\n    }\n\n    .dataframe tbody tr th {\n        vertical-align: top;\n    }\n\n    .dataframe thead th {\n        text-align: right;\n    }\n</style>\n<table border=\"1\" class=\"dataframe\">\n  <thead>\n    <tr style=\"text-align: right;\">\n      <th></th>\n      <th>Family.Size</th>\n      <th>Age.Range</th>\n      <th>MPC</th>\n    </tr>\n  </thead>\n  <tbody>\n    <tr>\n      <th>0</th>\n      <td>2</td>\n      <td>4</td>\n      <td>66.0</td>\n    </tr>\n    <tr>\n      <th>1</th>\n      <td>2</td>\n      <td>4</td>\n      <td>38.0</td>\n    </tr>\n    <tr>\n      <th>2</th>\n      <td>1</td>\n      <td>4</td>\n      <td>78.0</td>\n    </tr>\n    <tr>\n      <th>3</th>\n      <td>2</td>\n      <td>4</td>\n      <td>35.0</td>\n    </tr>\n    <tr>\n      <th>4</th>\n      <td>1</td>\n      <td>4</td>\n      <td>105.0</td>\n    </tr>\n  </tbody>\n</table>\n</div>"
     },
     "execution_count": 166,
     "metadata": {},
     "output_type": "execute_result"
    }
   ],
   "source": [
    "train_df['Family.Size'] = train_df['Parch'] + train_df['SibSp'] + 1\n",
    "\n",
    "# Funkcja do kategoryzacji wieku\n",
    "def categorize_age(age):\n",
    "    if age <= 6:\n",
    "        return 1 # 1 Bobas\n",
    "    elif age <= 12:\n",
    "        return 2 # 2 Dzieciak\n",
    "    elif age <= 18:\n",
    "        return 3 # 3 Nastolatek\n",
    "    else:\n",
    "        return 4 # 4 Dorosly\n",
    "\n",
    "# Tworzenie zmiennej Age.Range\n",
    "train_df['Age.Range'] = train_df['Age'].apply(categorize_age)\n",
    "\n",
    "# Tworzenie zmiennej MPC\n",
    "train_df['MPC'] = train_df['Age'] * train_df['Pclass']\n",
    "\n",
    "# Sprawdzenie nowych zmiennych\n",
    "train_df[['Family.Size', 'Age.Range', 'MPC']].head()"
   ],
   "metadata": {
    "collapsed": false,
    "ExecuteTime": {
     "end_time": "2024-01-24T21:20:32.946351100Z",
     "start_time": "2024-01-24T21:20:32.865344Z"
    }
   },
   "id": "b0e761564612af91",
   "execution_count": 166
  },
  {
   "cell_type": "code",
   "outputs": [
    {
     "data": {
      "text/plain": "     Survived  Pclass                                               Name  \\\n0           0       3                            Braund, Mr. Owen Harris   \n1           1       1  Cumings, Mrs. John Bradley (Florence Briggs Th...   \n2           1       3                             Heikkinen, Miss. Laina   \n3           1       1       Futrelle, Mrs. Jacques Heath (Lily May Peel)   \n4           0       3                           Allen, Mr. William Henry   \n..        ...     ...                                                ...   \n886         0       2                              Montvila, Rev. Juozas   \n887         1       1                       Graham, Miss. Margaret Edith   \n888         0       3           Johnston, Miss. Catherine Helen \"Carrie\"   \n889         1       1                              Behr, Mr. Karl Howell   \n890         0       3                                Dooley, Mr. Patrick   \n\n        Sex        Age  SibSp  Parch     Fare Embarked  Title  Family.Size  \\\n0      male  22.000000      1      0   7.2500        S      1            2   \n1    female  38.000000      1      0  71.2833        C      3            2   \n2    female  26.000000      0      0   7.9250        S      2            1   \n3    female  35.000000      1      0  53.1000        S      3            2   \n4      male  35.000000      0      0   8.0500        S      1            1   \n..      ...        ...    ...    ...      ...      ...    ...          ...   \n886    male  27.000000      0      0  13.0000        S      6            1   \n887  female  19.000000      0      0  30.0000        S      2            1   \n888  female  21.773973      1      2  23.4500        S      2            4   \n889    male  26.000000      0      0  30.0000        C      1            1   \n890    male  32.000000      0      0   7.7500        Q      1            1   \n\n     Age.Range         MPC  \n0            4   66.000000  \n1            4   38.000000  \n2            4   78.000000  \n3            4   35.000000  \n4            4  105.000000  \n..         ...         ...  \n886          4   54.000000  \n887          4   19.000000  \n888          4   65.321918  \n889          4   26.000000  \n890          4   96.000000  \n\n[891 rows x 13 columns]",
      "text/html": "<div>\n<style scoped>\n    .dataframe tbody tr th:only-of-type {\n        vertical-align: middle;\n    }\n\n    .dataframe tbody tr th {\n        vertical-align: top;\n    }\n\n    .dataframe thead th {\n        text-align: right;\n    }\n</style>\n<table border=\"1\" class=\"dataframe\">\n  <thead>\n    <tr style=\"text-align: right;\">\n      <th></th>\n      <th>Survived</th>\n      <th>Pclass</th>\n      <th>Name</th>\n      <th>Sex</th>\n      <th>Age</th>\n      <th>SibSp</th>\n      <th>Parch</th>\n      <th>Fare</th>\n      <th>Embarked</th>\n      <th>Title</th>\n      <th>Family.Size</th>\n      <th>Age.Range</th>\n      <th>MPC</th>\n    </tr>\n  </thead>\n  <tbody>\n    <tr>\n      <th>0</th>\n      <td>0</td>\n      <td>3</td>\n      <td>Braund, Mr. Owen Harris</td>\n      <td>male</td>\n      <td>22.000000</td>\n      <td>1</td>\n      <td>0</td>\n      <td>7.2500</td>\n      <td>S</td>\n      <td>1</td>\n      <td>2</td>\n      <td>4</td>\n      <td>66.000000</td>\n    </tr>\n    <tr>\n      <th>1</th>\n      <td>1</td>\n      <td>1</td>\n      <td>Cumings, Mrs. John Bradley (Florence Briggs Th...</td>\n      <td>female</td>\n      <td>38.000000</td>\n      <td>1</td>\n      <td>0</td>\n      <td>71.2833</td>\n      <td>C</td>\n      <td>3</td>\n      <td>2</td>\n      <td>4</td>\n      <td>38.000000</td>\n    </tr>\n    <tr>\n      <th>2</th>\n      <td>1</td>\n      <td>3</td>\n      <td>Heikkinen, Miss. Laina</td>\n      <td>female</td>\n      <td>26.000000</td>\n      <td>0</td>\n      <td>0</td>\n      <td>7.9250</td>\n      <td>S</td>\n      <td>2</td>\n      <td>1</td>\n      <td>4</td>\n      <td>78.000000</td>\n    </tr>\n    <tr>\n      <th>3</th>\n      <td>1</td>\n      <td>1</td>\n      <td>Futrelle, Mrs. Jacques Heath (Lily May Peel)</td>\n      <td>female</td>\n      <td>35.000000</td>\n      <td>1</td>\n      <td>0</td>\n      <td>53.1000</td>\n      <td>S</td>\n      <td>3</td>\n      <td>2</td>\n      <td>4</td>\n      <td>35.000000</td>\n    </tr>\n    <tr>\n      <th>4</th>\n      <td>0</td>\n      <td>3</td>\n      <td>Allen, Mr. William Henry</td>\n      <td>male</td>\n      <td>35.000000</td>\n      <td>0</td>\n      <td>0</td>\n      <td>8.0500</td>\n      <td>S</td>\n      <td>1</td>\n      <td>1</td>\n      <td>4</td>\n      <td>105.000000</td>\n    </tr>\n    <tr>\n      <th>...</th>\n      <td>...</td>\n      <td>...</td>\n      <td>...</td>\n      <td>...</td>\n      <td>...</td>\n      <td>...</td>\n      <td>...</td>\n      <td>...</td>\n      <td>...</td>\n      <td>...</td>\n      <td>...</td>\n      <td>...</td>\n      <td>...</td>\n    </tr>\n    <tr>\n      <th>886</th>\n      <td>0</td>\n      <td>2</td>\n      <td>Montvila, Rev. Juozas</td>\n      <td>male</td>\n      <td>27.000000</td>\n      <td>0</td>\n      <td>0</td>\n      <td>13.0000</td>\n      <td>S</td>\n      <td>6</td>\n      <td>1</td>\n      <td>4</td>\n      <td>54.000000</td>\n    </tr>\n    <tr>\n      <th>887</th>\n      <td>1</td>\n      <td>1</td>\n      <td>Graham, Miss. Margaret Edith</td>\n      <td>female</td>\n      <td>19.000000</td>\n      <td>0</td>\n      <td>0</td>\n      <td>30.0000</td>\n      <td>S</td>\n      <td>2</td>\n      <td>1</td>\n      <td>4</td>\n      <td>19.000000</td>\n    </tr>\n    <tr>\n      <th>888</th>\n      <td>0</td>\n      <td>3</td>\n      <td>Johnston, Miss. Catherine Helen \"Carrie\"</td>\n      <td>female</td>\n      <td>21.773973</td>\n      <td>1</td>\n      <td>2</td>\n      <td>23.4500</td>\n      <td>S</td>\n      <td>2</td>\n      <td>4</td>\n      <td>4</td>\n      <td>65.321918</td>\n    </tr>\n    <tr>\n      <th>889</th>\n      <td>1</td>\n      <td>1</td>\n      <td>Behr, Mr. Karl Howell</td>\n      <td>male</td>\n      <td>26.000000</td>\n      <td>0</td>\n      <td>0</td>\n      <td>30.0000</td>\n      <td>C</td>\n      <td>1</td>\n      <td>1</td>\n      <td>4</td>\n      <td>26.000000</td>\n    </tr>\n    <tr>\n      <th>890</th>\n      <td>0</td>\n      <td>3</td>\n      <td>Dooley, Mr. Patrick</td>\n      <td>male</td>\n      <td>32.000000</td>\n      <td>0</td>\n      <td>0</td>\n      <td>7.7500</td>\n      <td>Q</td>\n      <td>1</td>\n      <td>1</td>\n      <td>4</td>\n      <td>96.000000</td>\n    </tr>\n  </tbody>\n</table>\n<p>891 rows × 13 columns</p>\n</div>"
     },
     "execution_count": 167,
     "metadata": {},
     "output_type": "execute_result"
    }
   ],
   "source": [
    "train_df"
   ],
   "metadata": {
    "collapsed": false,
    "ExecuteTime": {
     "end_time": "2024-01-24T21:20:32.963349400Z",
     "start_time": "2024-01-24T21:20:32.879351600Z"
    }
   },
   "id": "8eebb69730e7892c",
   "execution_count": 167
  },
  {
   "cell_type": "markdown",
   "source": [
    "Przy okazji zamienimy sobię Wartości kolumny Sex na 0 i 1."
   ],
   "metadata": {
    "collapsed": false
   },
   "id": "167a6b9a6a829a41"
  },
  {
   "cell_type": "code",
   "outputs": [],
   "source": [
    "train_df['Sex'] = train_df['Sex'].map({'female': 1, 'male': 0}).astype(int)"
   ],
   "metadata": {
    "collapsed": false,
    "ExecuteTime": {
     "end_time": "2024-01-24T21:20:32.966349300Z",
     "start_time": "2024-01-24T21:20:32.895352400Z"
    }
   },
   "id": "4addcf6e69916896",
   "execution_count": 168
  },
  {
   "cell_type": "code",
   "outputs": [
    {
     "data": {
      "text/plain": "     Survived  Pclass                                               Name  Sex  \\\n0           0       3                            Braund, Mr. Owen Harris    0   \n1           1       1  Cumings, Mrs. John Bradley (Florence Briggs Th...    1   \n2           1       3                             Heikkinen, Miss. Laina    1   \n3           1       1       Futrelle, Mrs. Jacques Heath (Lily May Peel)    1   \n4           0       3                           Allen, Mr. William Henry    0   \n..        ...     ...                                                ...  ...   \n886         0       2                              Montvila, Rev. Juozas    0   \n887         1       1                       Graham, Miss. Margaret Edith    1   \n888         0       3           Johnston, Miss. Catherine Helen \"Carrie\"    1   \n889         1       1                              Behr, Mr. Karl Howell    0   \n890         0       3                                Dooley, Mr. Patrick    0   \n\n           Age  SibSp  Parch     Fare Embarked  Title  Family.Size  Age.Range  \\\n0    22.000000      1      0   7.2500        S      1            2          4   \n1    38.000000      1      0  71.2833        C      3            2          4   \n2    26.000000      0      0   7.9250        S      2            1          4   \n3    35.000000      1      0  53.1000        S      3            2          4   \n4    35.000000      0      0   8.0500        S      1            1          4   \n..         ...    ...    ...      ...      ...    ...          ...        ...   \n886  27.000000      0      0  13.0000        S      6            1          4   \n887  19.000000      0      0  30.0000        S      2            1          4   \n888  21.773973      1      2  23.4500        S      2            4          4   \n889  26.000000      0      0  30.0000        C      1            1          4   \n890  32.000000      0      0   7.7500        Q      1            1          4   \n\n            MPC  \n0     66.000000  \n1     38.000000  \n2     78.000000  \n3     35.000000  \n4    105.000000  \n..          ...  \n886   54.000000  \n887   19.000000  \n888   65.321918  \n889   26.000000  \n890   96.000000  \n\n[891 rows x 13 columns]",
      "text/html": "<div>\n<style scoped>\n    .dataframe tbody tr th:only-of-type {\n        vertical-align: middle;\n    }\n\n    .dataframe tbody tr th {\n        vertical-align: top;\n    }\n\n    .dataframe thead th {\n        text-align: right;\n    }\n</style>\n<table border=\"1\" class=\"dataframe\">\n  <thead>\n    <tr style=\"text-align: right;\">\n      <th></th>\n      <th>Survived</th>\n      <th>Pclass</th>\n      <th>Name</th>\n      <th>Sex</th>\n      <th>Age</th>\n      <th>SibSp</th>\n      <th>Parch</th>\n      <th>Fare</th>\n      <th>Embarked</th>\n      <th>Title</th>\n      <th>Family.Size</th>\n      <th>Age.Range</th>\n      <th>MPC</th>\n    </tr>\n  </thead>\n  <tbody>\n    <tr>\n      <th>0</th>\n      <td>0</td>\n      <td>3</td>\n      <td>Braund, Mr. Owen Harris</td>\n      <td>0</td>\n      <td>22.000000</td>\n      <td>1</td>\n      <td>0</td>\n      <td>7.2500</td>\n      <td>S</td>\n      <td>1</td>\n      <td>2</td>\n      <td>4</td>\n      <td>66.000000</td>\n    </tr>\n    <tr>\n      <th>1</th>\n      <td>1</td>\n      <td>1</td>\n      <td>Cumings, Mrs. John Bradley (Florence Briggs Th...</td>\n      <td>1</td>\n      <td>38.000000</td>\n      <td>1</td>\n      <td>0</td>\n      <td>71.2833</td>\n      <td>C</td>\n      <td>3</td>\n      <td>2</td>\n      <td>4</td>\n      <td>38.000000</td>\n    </tr>\n    <tr>\n      <th>2</th>\n      <td>1</td>\n      <td>3</td>\n      <td>Heikkinen, Miss. Laina</td>\n      <td>1</td>\n      <td>26.000000</td>\n      <td>0</td>\n      <td>0</td>\n      <td>7.9250</td>\n      <td>S</td>\n      <td>2</td>\n      <td>1</td>\n      <td>4</td>\n      <td>78.000000</td>\n    </tr>\n    <tr>\n      <th>3</th>\n      <td>1</td>\n      <td>1</td>\n      <td>Futrelle, Mrs. Jacques Heath (Lily May Peel)</td>\n      <td>1</td>\n      <td>35.000000</td>\n      <td>1</td>\n      <td>0</td>\n      <td>53.1000</td>\n      <td>S</td>\n      <td>3</td>\n      <td>2</td>\n      <td>4</td>\n      <td>35.000000</td>\n    </tr>\n    <tr>\n      <th>4</th>\n      <td>0</td>\n      <td>3</td>\n      <td>Allen, Mr. William Henry</td>\n      <td>0</td>\n      <td>35.000000</td>\n      <td>0</td>\n      <td>0</td>\n      <td>8.0500</td>\n      <td>S</td>\n      <td>1</td>\n      <td>1</td>\n      <td>4</td>\n      <td>105.000000</td>\n    </tr>\n    <tr>\n      <th>...</th>\n      <td>...</td>\n      <td>...</td>\n      <td>...</td>\n      <td>...</td>\n      <td>...</td>\n      <td>...</td>\n      <td>...</td>\n      <td>...</td>\n      <td>...</td>\n      <td>...</td>\n      <td>...</td>\n      <td>...</td>\n      <td>...</td>\n    </tr>\n    <tr>\n      <th>886</th>\n      <td>0</td>\n      <td>2</td>\n      <td>Montvila, Rev. Juozas</td>\n      <td>0</td>\n      <td>27.000000</td>\n      <td>0</td>\n      <td>0</td>\n      <td>13.0000</td>\n      <td>S</td>\n      <td>6</td>\n      <td>1</td>\n      <td>4</td>\n      <td>54.000000</td>\n    </tr>\n    <tr>\n      <th>887</th>\n      <td>1</td>\n      <td>1</td>\n      <td>Graham, Miss. Margaret Edith</td>\n      <td>1</td>\n      <td>19.000000</td>\n      <td>0</td>\n      <td>0</td>\n      <td>30.0000</td>\n      <td>S</td>\n      <td>2</td>\n      <td>1</td>\n      <td>4</td>\n      <td>19.000000</td>\n    </tr>\n    <tr>\n      <th>888</th>\n      <td>0</td>\n      <td>3</td>\n      <td>Johnston, Miss. Catherine Helen \"Carrie\"</td>\n      <td>1</td>\n      <td>21.773973</td>\n      <td>1</td>\n      <td>2</td>\n      <td>23.4500</td>\n      <td>S</td>\n      <td>2</td>\n      <td>4</td>\n      <td>4</td>\n      <td>65.321918</td>\n    </tr>\n    <tr>\n      <th>889</th>\n      <td>1</td>\n      <td>1</td>\n      <td>Behr, Mr. Karl Howell</td>\n      <td>0</td>\n      <td>26.000000</td>\n      <td>0</td>\n      <td>0</td>\n      <td>30.0000</td>\n      <td>C</td>\n      <td>1</td>\n      <td>1</td>\n      <td>4</td>\n      <td>26.000000</td>\n    </tr>\n    <tr>\n      <th>890</th>\n      <td>0</td>\n      <td>3</td>\n      <td>Dooley, Mr. Patrick</td>\n      <td>0</td>\n      <td>32.000000</td>\n      <td>0</td>\n      <td>0</td>\n      <td>7.7500</td>\n      <td>Q</td>\n      <td>1</td>\n      <td>1</td>\n      <td>4</td>\n      <td>96.000000</td>\n    </tr>\n  </tbody>\n</table>\n<p>891 rows × 13 columns</p>\n</div>"
     },
     "execution_count": 169,
     "metadata": {},
     "output_type": "execute_result"
    }
   ],
   "source": [
    "train_df"
   ],
   "metadata": {
    "collapsed": false,
    "ExecuteTime": {
     "end_time": "2024-01-24T21:20:32.995364900Z",
     "start_time": "2024-01-24T21:20:32.911352100Z"
    }
   },
   "id": "d0cda985f70532f0",
   "execution_count": 169
  },
  {
   "cell_type": "markdown",
   "source": [
    "# Zadanie 3"
   ],
   "metadata": {
    "collapsed": false
   },
   "id": "f04114ffd620e6c1"
  },
  {
   "cell_type": "markdown",
   "source": [
    "Przed przejściem do uzupełnienia brakujących danych należy sprawdzić (i ew. zmienić) typy poszczególnych kolumn. Zwróć w szczególności uwagę na kolumny: „Survived”, „Pclass”, „Embarked” i „Sex” – powinny one reprezentować dane kategoryczne (ang. factors). Jakiego typu wartości powinna zawierać kolumna „Fare”?"
   ],
   "metadata": {
    "collapsed": false
   },
   "id": "8b0570b112012ce4"
  },
  {
   "cell_type": "code",
   "outputs": [
    {
     "data": {
      "text/plain": "Survived       category\nPclass         category\nName             object\nSex            category\nAge             float64\nSibSp             int64\nParch             int64\nFare            float64\nEmbarked       category\nTitle             int64\nFamily.Size    category\nAge.Range      category\nMPC             float64\ndtype: object"
     },
     "execution_count": 170,
     "metadata": {},
     "output_type": "execute_result"
    }
   ],
   "source": [
    "# Zmiana typów danych dla wybranych kolumn\n",
    "train_df['Survived'] = train_df['Survived'].astype('category')\n",
    "train_df['Pclass'] = train_df['Pclass'].astype('category')\n",
    "train_df['Embarked'] = train_df['Embarked'].astype('category')\n",
    "train_df['Sex'] = train_df['Sex'].astype('category')\n",
    "train_df['Age.Range'] = train_df['Age.Range'].astype('category')\n",
    "train_df['Family.Size'] = train_df['Family.Size'].astype('category')\n",
    "\n",
    "# Sprawdzenie typów danych po zmianach\n",
    "updated_data_types = train_df.dtypes\n",
    "\n",
    "updated_data_types"
   ],
   "metadata": {
    "collapsed": false,
    "ExecuteTime": {
     "end_time": "2024-01-24T21:20:33.050359500Z",
     "start_time": "2024-01-24T21:20:32.928352100Z"
    }
   },
   "id": "98733798248b5730",
   "execution_count": 170
  },
  {
   "cell_type": "markdown",
   "source": [
    "Według mnie, kolumna Fare powinna zawierać wartości numeryczne."
   ],
   "metadata": {
    "collapsed": false
   },
   "id": "23f72633a490f892"
  },
  {
   "cell_type": "markdown",
   "source": [
    "# Zadanie 4"
   ],
   "metadata": {
    "collapsed": false
   },
   "id": "428dd24a94fcefc2"
  },
  {
   "cell_type": "markdown",
   "source": [
    "Pozostaje Ci teraz uzupełnić brakujące wartości dla pozostałych atrybutów. Można posłużyć się tu jedną z metod tzw. imputacji, zawartą w pakiecie scikit-learn (https://scikitlearn.org/stable/auto_examples/impute/plot_missing_values.html) – w szczególności dobre efekty daje metoda MICE (ang. Multivariate Imputation by Chained Equations, https://www.ncbi.nlm.nih.gov/pmc/articles/PMC3074241/), implementowana poprzez klasę sklearn.impute.IterativeImputer"
   ],
   "metadata": {
    "collapsed": false
   },
   "id": "39667a24adcd42a1"
  },
  {
   "cell_type": "markdown",
   "source": [
    "Sprawdźmy jakie kolumny jeszcze zawierają brakujące wartości."
   ],
   "metadata": {
    "collapsed": false
   },
   "id": "f83988cc3653d0ac"
  },
  {
   "cell_type": "code",
   "outputs": [
    {
     "data": {
      "text/plain": "Embarked    0.224467\ndtype: float64"
     },
     "execution_count": 171,
     "metadata": {},
     "output_type": "execute_result"
    }
   ],
   "source": [
    "train_df_isna = train_df.isna().sum() > 0\n",
    "train_df.loc[:,train_df_isna].isna().sum().sort_values(ascending=False) / len(train_df)*100"
   ],
   "metadata": {
    "collapsed": false,
    "ExecuteTime": {
     "end_time": "2024-01-24T21:20:33.069359700Z",
     "start_time": "2024-01-24T21:20:32.943350900Z"
    }
   },
   "id": "d4c25cb621e45a00",
   "execution_count": 171
  },
  {
   "cell_type": "markdown",
   "source": [
    "Embarked to zmienna kategoryczna, która ma tylko kilka pustych wartości, które uzupełnimy modą, bo nie ma sensu w tym przypadku korzystać z metod imputacji."
   ],
   "metadata": {
    "collapsed": false
   },
   "id": "c0900f802063844c"
  },
  {
   "cell_type": "code",
   "outputs": [],
   "source": [
    "train_df.fillna({'Embarked': train_df['Embarked'].mode()[0]}, inplace=True)"
   ],
   "metadata": {
    "collapsed": false,
    "ExecuteTime": {
     "end_time": "2024-01-24T21:20:33.082367300Z",
     "start_time": "2024-01-24T21:20:32.959352900Z"
    }
   },
   "id": "49b214d7e10e112d",
   "execution_count": 172
  },
  {
   "cell_type": "markdown",
   "source": [
    "Sprawdzenie czy braki zostały uzupełnione."
   ],
   "metadata": {
    "collapsed": false
   },
   "id": "3b3e1a8943c41415"
  },
  {
   "cell_type": "code",
   "outputs": [
    {
     "data": {
      "text/plain": "Series([], dtype: float64)"
     },
     "execution_count": 173,
     "metadata": {},
     "output_type": "execute_result"
    }
   ],
   "source": [
    "train_df_isna = train_df.isna().sum() > 0\n",
    "train_df.loc[:,train_df_isna].isna().sum().sort_values(ascending=False) / len(train_df)*100"
   ],
   "metadata": {
    "collapsed": false,
    "ExecuteTime": {
     "end_time": "2024-01-24T21:20:33.104368500Z",
     "start_time": "2024-01-24T21:20:32.975385100Z"
    }
   },
   "id": "2ab775e42e90b14c",
   "execution_count": 173
  },
  {
   "cell_type": "code",
   "outputs": [
    {
     "data": {
      "text/plain": "    Survived Pclass                                               Name Sex  \\\n0          0      3                            Braund, Mr. Owen Harris   0   \n1          1      1  Cumings, Mrs. John Bradley (Florence Briggs Th...   1   \n2          1      3                             Heikkinen, Miss. Laina   1   \n3          1      1       Futrelle, Mrs. Jacques Heath (Lily May Peel)   1   \n4          0      3                           Allen, Mr. William Henry   0   \n..       ...    ...                                                ...  ..   \n886        0      2                              Montvila, Rev. Juozas   0   \n887        1      1                       Graham, Miss. Margaret Edith   1   \n888        0      3           Johnston, Miss. Catherine Helen \"Carrie\"   1   \n889        1      1                              Behr, Mr. Karl Howell   0   \n890        0      3                                Dooley, Mr. Patrick   0   \n\n           Age  SibSp  Parch     Fare Embarked  Title Family.Size Age.Range  \\\n0    22.000000      1      0   7.2500        S      1           2         4   \n1    38.000000      1      0  71.2833        C      3           2         4   \n2    26.000000      0      0   7.9250        S      2           1         4   \n3    35.000000      1      0  53.1000        S      3           2         4   \n4    35.000000      0      0   8.0500        S      1           1         4   \n..         ...    ...    ...      ...      ...    ...         ...       ...   \n886  27.000000      0      0  13.0000        S      6           1         4   \n887  19.000000      0      0  30.0000        S      2           1         4   \n888  21.773973      1      2  23.4500        S      2           4         4   \n889  26.000000      0      0  30.0000        C      1           1         4   \n890  32.000000      0      0   7.7500        Q      1           1         4   \n\n            MPC  \n0     66.000000  \n1     38.000000  \n2     78.000000  \n3     35.000000  \n4    105.000000  \n..          ...  \n886   54.000000  \n887   19.000000  \n888   65.321918  \n889   26.000000  \n890   96.000000  \n\n[891 rows x 13 columns]",
      "text/html": "<div>\n<style scoped>\n    .dataframe tbody tr th:only-of-type {\n        vertical-align: middle;\n    }\n\n    .dataframe tbody tr th {\n        vertical-align: top;\n    }\n\n    .dataframe thead th {\n        text-align: right;\n    }\n</style>\n<table border=\"1\" class=\"dataframe\">\n  <thead>\n    <tr style=\"text-align: right;\">\n      <th></th>\n      <th>Survived</th>\n      <th>Pclass</th>\n      <th>Name</th>\n      <th>Sex</th>\n      <th>Age</th>\n      <th>SibSp</th>\n      <th>Parch</th>\n      <th>Fare</th>\n      <th>Embarked</th>\n      <th>Title</th>\n      <th>Family.Size</th>\n      <th>Age.Range</th>\n      <th>MPC</th>\n    </tr>\n  </thead>\n  <tbody>\n    <tr>\n      <th>0</th>\n      <td>0</td>\n      <td>3</td>\n      <td>Braund, Mr. Owen Harris</td>\n      <td>0</td>\n      <td>22.000000</td>\n      <td>1</td>\n      <td>0</td>\n      <td>7.2500</td>\n      <td>S</td>\n      <td>1</td>\n      <td>2</td>\n      <td>4</td>\n      <td>66.000000</td>\n    </tr>\n    <tr>\n      <th>1</th>\n      <td>1</td>\n      <td>1</td>\n      <td>Cumings, Mrs. John Bradley (Florence Briggs Th...</td>\n      <td>1</td>\n      <td>38.000000</td>\n      <td>1</td>\n      <td>0</td>\n      <td>71.2833</td>\n      <td>C</td>\n      <td>3</td>\n      <td>2</td>\n      <td>4</td>\n      <td>38.000000</td>\n    </tr>\n    <tr>\n      <th>2</th>\n      <td>1</td>\n      <td>3</td>\n      <td>Heikkinen, Miss. Laina</td>\n      <td>1</td>\n      <td>26.000000</td>\n      <td>0</td>\n      <td>0</td>\n      <td>7.9250</td>\n      <td>S</td>\n      <td>2</td>\n      <td>1</td>\n      <td>4</td>\n      <td>78.000000</td>\n    </tr>\n    <tr>\n      <th>3</th>\n      <td>1</td>\n      <td>1</td>\n      <td>Futrelle, Mrs. Jacques Heath (Lily May Peel)</td>\n      <td>1</td>\n      <td>35.000000</td>\n      <td>1</td>\n      <td>0</td>\n      <td>53.1000</td>\n      <td>S</td>\n      <td>3</td>\n      <td>2</td>\n      <td>4</td>\n      <td>35.000000</td>\n    </tr>\n    <tr>\n      <th>4</th>\n      <td>0</td>\n      <td>3</td>\n      <td>Allen, Mr. William Henry</td>\n      <td>0</td>\n      <td>35.000000</td>\n      <td>0</td>\n      <td>0</td>\n      <td>8.0500</td>\n      <td>S</td>\n      <td>1</td>\n      <td>1</td>\n      <td>4</td>\n      <td>105.000000</td>\n    </tr>\n    <tr>\n      <th>...</th>\n      <td>...</td>\n      <td>...</td>\n      <td>...</td>\n      <td>...</td>\n      <td>...</td>\n      <td>...</td>\n      <td>...</td>\n      <td>...</td>\n      <td>...</td>\n      <td>...</td>\n      <td>...</td>\n      <td>...</td>\n      <td>...</td>\n    </tr>\n    <tr>\n      <th>886</th>\n      <td>0</td>\n      <td>2</td>\n      <td>Montvila, Rev. Juozas</td>\n      <td>0</td>\n      <td>27.000000</td>\n      <td>0</td>\n      <td>0</td>\n      <td>13.0000</td>\n      <td>S</td>\n      <td>6</td>\n      <td>1</td>\n      <td>4</td>\n      <td>54.000000</td>\n    </tr>\n    <tr>\n      <th>887</th>\n      <td>1</td>\n      <td>1</td>\n      <td>Graham, Miss. Margaret Edith</td>\n      <td>1</td>\n      <td>19.000000</td>\n      <td>0</td>\n      <td>0</td>\n      <td>30.0000</td>\n      <td>S</td>\n      <td>2</td>\n      <td>1</td>\n      <td>4</td>\n      <td>19.000000</td>\n    </tr>\n    <tr>\n      <th>888</th>\n      <td>0</td>\n      <td>3</td>\n      <td>Johnston, Miss. Catherine Helen \"Carrie\"</td>\n      <td>1</td>\n      <td>21.773973</td>\n      <td>1</td>\n      <td>2</td>\n      <td>23.4500</td>\n      <td>S</td>\n      <td>2</td>\n      <td>4</td>\n      <td>4</td>\n      <td>65.321918</td>\n    </tr>\n    <tr>\n      <th>889</th>\n      <td>1</td>\n      <td>1</td>\n      <td>Behr, Mr. Karl Howell</td>\n      <td>0</td>\n      <td>26.000000</td>\n      <td>0</td>\n      <td>0</td>\n      <td>30.0000</td>\n      <td>C</td>\n      <td>1</td>\n      <td>1</td>\n      <td>4</td>\n      <td>26.000000</td>\n    </tr>\n    <tr>\n      <th>890</th>\n      <td>0</td>\n      <td>3</td>\n      <td>Dooley, Mr. Patrick</td>\n      <td>0</td>\n      <td>32.000000</td>\n      <td>0</td>\n      <td>0</td>\n      <td>7.7500</td>\n      <td>Q</td>\n      <td>1</td>\n      <td>1</td>\n      <td>4</td>\n      <td>96.000000</td>\n    </tr>\n  </tbody>\n</table>\n<p>891 rows × 13 columns</p>\n</div>"
     },
     "execution_count": 174,
     "metadata": {},
     "output_type": "execute_result"
    }
   ],
   "source": [
    "train_df"
   ],
   "metadata": {
    "collapsed": false,
    "ExecuteTime": {
     "end_time": "2024-01-24T21:20:33.138368Z",
     "start_time": "2024-01-24T21:20:32.991362500Z"
    }
   },
   "id": "59dff1d1298e0add",
   "execution_count": 174
  },
  {
   "cell_type": "markdown",
   "source": [
    "Jak widać, wszystkie brakujące wartości zostały uzupełnione."
   ],
   "metadata": {
    "collapsed": false
   },
   "id": "84c1ff245fdf30ee"
  },
  {
   "cell_type": "markdown",
   "source": [
    "# Zadanie 5"
   ],
   "metadata": {
    "collapsed": false
   },
   "id": "179c999a00035c92"
  },
  {
   "cell_type": "markdown",
   "source": [
    "Przycięcie odstających wartości zacznij od analizy wartości poszczególnych atrybutów. Najlepszym do tego narzędziem jest wykres punktowy, gdzie nanosimy na obu osiach ten sam atrybut. Dzięki temu czarno na białym widać, które wartości odstają. Na przykładzie wizualizacji wieku poszczególnych pasażerów, możemy zauważyć, że dla kolumny „Age” powinniśmy usunąć wszystkie wartości powyżej 67 i zastąpić je średnim wiekiem. Podobnie należy postąpić z ceną biletu, jaką zapłacili poszczególni pasażerowie. Odstające wartości zostają zastąpione średnią. UWAGA: Przycinania odstających wartości zawsze dokonujemy przed normalizacją danych."
   ],
   "metadata": {
    "collapsed": false
   },
   "id": "c6ce97664d6961ed"
  },
  {
   "cell_type": "code",
   "outputs": [
    {
     "data": {
      "text/plain": "<Figure size 1200x600 with 2 Axes>",
      "image/png": "[encoded data removed]"
     },
     "metadata": {},
     "output_type": "display_data"
    }
   ],
   "source": [
    "import matplotlib.pyplot as plt\n",
    "import seaborn as sns\n",
    "\n",
    "# Ustawienia wykresu\n",
    "sns.set(style=\"whitegrid\")\n",
    "\n",
    "# Tworzenie wykresów punktowych\n",
    "fig, ax = plt.subplots(1, 2, figsize=(12, 6))\n",
    "\n",
    "# Wykres dla wieku\n",
    "sns.scatterplot(x=train_df['Age'], y=train_df['Age'], ax=ax[0])\n",
    "ax[0].set_title('Wykres punktowy wieku')\n",
    "ax[0].set_xlabel('Wiek')\n",
    "ax[0].set_ylabel('Wiek')\n",
    "\n",
    "# Wykres dla ceny biletu\n",
    "sns.scatterplot(x=train_df['Fare'], y=train_df['Fare'], ax=ax[1])\n",
    "ax[1].set_title('Wykres punktowy ceny biletu')\n",
    "ax[1].set_xlabel('Cena biletu')\n",
    "ax[1].set_ylabel('Cena biletu')\n",
    "\n",
    "plt.show()"
   ],
   "metadata": {
    "collapsed": false,
    "ExecuteTime": {
     "end_time": "2024-01-24T21:20:33.264375700Z",
     "start_time": "2024-01-24T21:20:33.008358700Z"
    }
   },
   "id": "4390ea50f5427b85",
   "execution_count": 175
  },
  {
   "cell_type": "markdown",
   "source": [
    "Widać wyraźnie, że w zbiorze danych znajdują się wartości odstające. W przypadku wieku są to osoby powyżej 67 lat, a w przypadku ceny biletu powyżej 100. Przytniemy te wartości i zastąpimy je średnimi."
   ],
   "metadata": {
    "collapsed": false
   },
   "id": "f1294d77f6e06e5"
  },
  {
   "cell_type": "code",
   "outputs": [
    {
     "name": "stdout",
     "output_type": "stream",
     "text": [
      "<class 'pandas.core.frame.DataFrame'>\n",
      "RangeIndex: 891 entries, 0 to 890\n",
      "Data columns (total 2 columns):\n",
      " #   Column  Non-Null Count  Dtype  \n",
      "---  ------  --------------  -----  \n",
      " 0   Age     891 non-null    int32  \n",
      " 1   Fare    891 non-null    float64\n",
      "dtypes: float64(1), int32(1)\n",
      "memory usage: 10.6 KB\n"
     ]
    }
   ],
   "source": [
    "# Obliczenie średniej wieku i ceny biletu\n",
    "mean_age = train_df['Age'].mean()\n",
    "mean_fare = train_df['Fare'].mean()\n",
    "\n",
    "# Przycięcie odstających wartości wieku i ceny biletu\n",
    "train_df['Age'] = train_df['Age'].apply(lambda x: x if x <= 67 else mean_age)\n",
    "train_df['Fare'] = train_df['Fare'].apply(lambda x: x if x <= train_df['Fare'].quantile(0.99) else mean_fare)\n",
    "\n",
    "# Zmiana typu Age na int\n",
    "train_df['Age'] = train_df['Age'].astype(int)\n",
    "\n",
    "# Wyświetlenie aktualizacji\n",
    "updated_age_fare = train_df[['Age', 'Fare']].info()\n",
    "updated_age_fare"
   ],
   "metadata": {
    "collapsed": false,
    "ExecuteTime": {
     "end_time": "2024-01-24T21:20:33.403386100Z",
     "start_time": "2024-01-24T21:20:33.209375600Z"
    }
   },
   "id": "a321f1e477da7efe",
   "execution_count": 176
  },
  {
   "cell_type": "markdown",
   "source": [
    "Sprawdzenie jak wygląadają wykresy punktowe po przycięciu odstających wartości."
   ],
   "metadata": {
    "collapsed": false
   },
   "id": "9e69015ae97438c2"
  },
  {
   "cell_type": "code",
   "outputs": [
    {
     "data": {
      "text/plain": "Text(0, 0.5, 'Cena biletu')"
     },
     "execution_count": 177,
     "metadata": {},
     "output_type": "execute_result"
    },
    {
     "data": {
      "text/plain": "<Figure size 1200x600 with 2 Axes>",
      "image/png": "[encoded data removed]"
     },
     "metadata": {},
     "output_type": "display_data"
    }
   ],
   "source": [
    "# Wykresy punktowe po przycięciu odstających wartości\n",
    "fig, ax = plt.subplots(1, 2, figsize=(12, 6))\n",
    "\n",
    "# Wykres dla wieku\n",
    "sns.scatterplot(x=train_df['Age'], y=train_df['Age'], ax=ax[0])\n",
    "ax[0].set_title('Wykres punktowy wieku')\n",
    "ax[0].set_xlabel('Wiek')\n",
    "ax[0].set_ylabel('Wiek')\n",
    "\n",
    "# Wykres dla ceny biletu\n",
    "sns.scatterplot(x=train_df['Fare'], y=train_df['Fare'], ax=ax[1])\n",
    "ax[1].set_title('Wykres punktowy ceny biletu')\n",
    "ax[1].set_xlabel('Cena biletu')\n",
    "ax[1].set_ylabel('Cena biletu')"
   ],
   "metadata": {
    "collapsed": false,
    "ExecuteTime": {
     "end_time": "2024-01-24T21:20:33.688418700Z",
     "start_time": "2024-01-24T21:20:33.341386600Z"
    }
   },
   "id": "e9d576cdf380239c",
   "execution_count": 177
  },
  {
   "cell_type": "markdown",
   "source": [
    "Widać, że wykresy punktowe wyglądają dużo lepiej."
   ],
   "metadata": {
    "collapsed": false
   },
   "id": "de55844d470bdda9"
  },
  {
   "cell_type": "markdown",
   "source": [
    "Sprawdzmy jak sprawa wygląda dla dla SibSp i Parch."
   ],
   "metadata": {
    "collapsed": false
   },
   "id": "5df3b1c3fb8fdcd2"
  },
  {
   "cell_type": "code",
   "outputs": [
    {
     "data": {
      "text/plain": "<Figure size 1200x600 with 2 Axes>",
      "image/png": "[encoded data removed]"
     },
     "metadata": {},
     "output_type": "display_data"
    }
   ],
   "source": [
    "# Tworzenie wykresów punktowych dla SibSp i Parch\n",
    "fig, ax = plt.subplots(1, 2, figsize=(12, 6))\n",
    "\n",
    "# Wykres dla SibSp\n",
    "sns.scatterplot(x=train_df['SibSp'], y=train_df['SibSp'], ax=ax[0])\n",
    "ax[0].set_title('Wykres punktowy dla SibSp')\n",
    "ax[0].set_xlabel('SibSp')\n",
    "ax[0].set_ylabel('SibSp')\n",
    "\n",
    "# Wykres dla Parch\n",
    "sns.scatterplot(x=train_df['Parch'], y=train_df['Parch'], ax=ax[1])\n",
    "ax[1].set_title('Wykres punktowy dla Parch')\n",
    "ax[1].set_xlabel('Parch')\n",
    "ax[1].set_ylabel('Parch')\n",
    "\n",
    "plt.show()"
   ],
   "metadata": {
    "collapsed": false,
    "ExecuteTime": {
     "end_time": "2024-01-24T21:20:33.912768500Z",
     "start_time": "2024-01-24T21:20:33.687003900Z"
    }
   },
   "id": "53030a860a2028a2",
   "execution_count": 178
  },
  {
   "cell_type": "markdown",
   "source": [
    "Sprawdźmy, jak wygląda rozkład tych skrajnie odstajacych zmiennych."
   ],
   "metadata": {
    "collapsed": false
   },
   "id": "caeeaa2baafd2651"
  },
  {
   "cell_type": "code",
   "outputs": [
    {
     "data": {
      "text/plain": "(3.3670033670033668, 1.122334455667789)"
     },
     "execution_count": 179,
     "metadata": {},
     "output_type": "execute_result"
    }
   ],
   "source": [
    "# Analiza procentowego udziału wysokich wartości w SibSp i Parch\n",
    "sibsp_high_values = (train_df['SibSp'] > 3).sum() / train_df.shape[0] * 100\n",
    "parch_high_values = (train_df['Parch'] > 3).sum() / train_df.shape[0] * 100\n",
    "\n",
    "sibsp_high_values, parch_high_values"
   ],
   "metadata": {
    "collapsed": false,
    "ExecuteTime": {
     "end_time": "2024-01-24T21:20:33.922767500Z",
     "start_time": "2024-01-24T21:20:33.908768700Z"
    }
   },
   "id": "624f426ea5e3e621",
   "execution_count": 179
  },
  {
   "cell_type": "markdown",
   "source": [
    "Tylko niewielki odsetek pasażerów ma wartości skrajne w tych kolumnach, wiec odpuścimy normalizacje."
   ],
   "metadata": {
    "collapsed": false
   },
   "id": "ab917c1d0e18e885"
  },
  {
   "cell_type": "code",
   "outputs": [
    {
     "data": {
      "text/plain": "    Survived Pclass                                               Name Sex  \\\n0          0      3                            Braund, Mr. Owen Harris   0   \n1          1      1  Cumings, Mrs. John Bradley (Florence Briggs Th...   1   \n2          1      3                             Heikkinen, Miss. Laina   1   \n3          1      1       Futrelle, Mrs. Jacques Heath (Lily May Peel)   1   \n4          0      3                           Allen, Mr. William Henry   0   \n..       ...    ...                                                ...  ..   \n886        0      2                              Montvila, Rev. Juozas   0   \n887        1      1                       Graham, Miss. Margaret Edith   1   \n888        0      3           Johnston, Miss. Catherine Helen \"Carrie\"   1   \n889        1      1                              Behr, Mr. Karl Howell   0   \n890        0      3                                Dooley, Mr. Patrick   0   \n\n     Age  SibSp  Parch     Fare Embarked  Title Family.Size Age.Range  \\\n0     22      1      0   7.2500        S      1           2         4   \n1     38      1      0  71.2833        C      3           2         4   \n2     26      0      0   7.9250        S      2           1         4   \n3     35      1      0  53.1000        S      3           2         4   \n4     35      0      0   8.0500        S      1           1         4   \n..   ...    ...    ...      ...      ...    ...         ...       ...   \n886   27      0      0  13.0000        S      6           1         4   \n887   19      0      0  30.0000        S      2           1         4   \n888   21      1      2  23.4500        S      2           4         4   \n889   26      0      0  30.0000        C      1           1         4   \n890   32      0      0   7.7500        Q      1           1         4   \n\n            MPC  \n0     66.000000  \n1     38.000000  \n2     78.000000  \n3     35.000000  \n4    105.000000  \n..          ...  \n886   54.000000  \n887   19.000000  \n888   65.321918  \n889   26.000000  \n890   96.000000  \n\n[891 rows x 13 columns]",
      "text/html": "<div>\n<style scoped>\n    .dataframe tbody tr th:only-of-type {\n        vertical-align: middle;\n    }\n\n    .dataframe tbody tr th {\n        vertical-align: top;\n    }\n\n    .dataframe thead th {\n        text-align: right;\n    }\n</style>\n<table border=\"1\" class=\"dataframe\">\n  <thead>\n    <tr style=\"text-align: right;\">\n      <th></th>\n      <th>Survived</th>\n      <th>Pclass</th>\n      <th>Name</th>\n      <th>Sex</th>\n      <th>Age</th>\n      <th>SibSp</th>\n      <th>Parch</th>\n      <th>Fare</th>\n      <th>Embarked</th>\n      <th>Title</th>\n      <th>Family.Size</th>\n      <th>Age.Range</th>\n      <th>MPC</th>\n    </tr>\n  </thead>\n  <tbody>\n    <tr>\n      <th>0</th>\n      <td>0</td>\n      <td>3</td>\n      <td>Braund, Mr. Owen Harris</td>\n      <td>0</td>\n      <td>22</td>\n      <td>1</td>\n      <td>0</td>\n      <td>7.2500</td>\n      <td>S</td>\n      <td>1</td>\n      <td>2</td>\n      <td>4</td>\n      <td>66.000000</td>\n    </tr>\n    <tr>\n      <th>1</th>\n      <td>1</td>\n      <td>1</td>\n      <td>Cumings, Mrs. John Bradley (Florence Briggs Th...</td>\n      <td>1</td>\n      <td>38</td>\n      <td>1</td>\n      <td>0</td>\n      <td>71.2833</td>\n      <td>C</td>\n      <td>3</td>\n      <td>2</td>\n      <td>4</td>\n      <td>38.000000</td>\n    </tr>\n    <tr>\n      <th>2</th>\n      <td>1</td>\n      <td>3</td>\n      <td>Heikkinen, Miss. Laina</td>\n      <td>1</td>\n      <td>26</td>\n      <td>0</td>\n      <td>0</td>\n      <td>7.9250</td>\n      <td>S</td>\n      <td>2</td>\n      <td>1</td>\n      <td>4</td>\n      <td>78.000000</td>\n    </tr>\n    <tr>\n      <th>3</th>\n      <td>1</td>\n      <td>1</td>\n      <td>Futrelle, Mrs. Jacques Heath (Lily May Peel)</td>\n      <td>1</td>\n      <td>35</td>\n      <td>1</td>\n      <td>0</td>\n      <td>53.1000</td>\n      <td>S</td>\n      <td>3</td>\n      <td>2</td>\n      <td>4</td>\n      <td>35.000000</td>\n    </tr>\n    <tr>\n      <th>4</th>\n      <td>0</td>\n      <td>3</td>\n      <td>Allen, Mr. William Henry</td>\n      <td>0</td>\n      <td>35</td>\n      <td>0</td>\n      <td>0</td>\n      <td>8.0500</td>\n      <td>S</td>\n      <td>1</td>\n      <td>1</td>\n      <td>4</td>\n      <td>105.000000</td>\n    </tr>\n    <tr>\n      <th>...</th>\n      <td>...</td>\n      <td>...</td>\n      <td>...</td>\n      <td>...</td>\n      <td>...</td>\n      <td>...</td>\n      <td>...</td>\n      <td>...</td>\n      <td>...</td>\n      <td>...</td>\n      <td>...</td>\n      <td>...</td>\n      <td>...</td>\n    </tr>\n    <tr>\n      <th>886</th>\n      <td>0</td>\n      <td>2</td>\n      <td>Montvila, Rev. Juozas</td>\n      <td>0</td>\n      <td>27</td>\n      <td>0</td>\n      <td>0</td>\n      <td>13.0000</td>\n      <td>S</td>\n      <td>6</td>\n      <td>1</td>\n      <td>4</td>\n      <td>54.000000</td>\n    </tr>\n    <tr>\n      <th>887</th>\n      <td>1</td>\n      <td>1</td>\n      <td>Graham, Miss. Margaret Edith</td>\n      <td>1</td>\n      <td>19</td>\n      <td>0</td>\n      <td>0</td>\n      <td>30.0000</td>\n      <td>S</td>\n      <td>2</td>\n      <td>1</td>\n      <td>4</td>\n      <td>19.000000</td>\n    </tr>\n    <tr>\n      <th>888</th>\n      <td>0</td>\n      <td>3</td>\n      <td>Johnston, Miss. Catherine Helen \"Carrie\"</td>\n      <td>1</td>\n      <td>21</td>\n      <td>1</td>\n      <td>2</td>\n      <td>23.4500</td>\n      <td>S</td>\n      <td>2</td>\n      <td>4</td>\n      <td>4</td>\n      <td>65.321918</td>\n    </tr>\n    <tr>\n      <th>889</th>\n      <td>1</td>\n      <td>1</td>\n      <td>Behr, Mr. Karl Howell</td>\n      <td>0</td>\n      <td>26</td>\n      <td>0</td>\n      <td>0</td>\n      <td>30.0000</td>\n      <td>C</td>\n      <td>1</td>\n      <td>1</td>\n      <td>4</td>\n      <td>26.000000</td>\n    </tr>\n    <tr>\n      <th>890</th>\n      <td>0</td>\n      <td>3</td>\n      <td>Dooley, Mr. Patrick</td>\n      <td>0</td>\n      <td>32</td>\n      <td>0</td>\n      <td>0</td>\n      <td>7.7500</td>\n      <td>Q</td>\n      <td>1</td>\n      <td>1</td>\n      <td>4</td>\n      <td>96.000000</td>\n    </tr>\n  </tbody>\n</table>\n<p>891 rows × 13 columns</p>\n</div>"
     },
     "execution_count": 180,
     "metadata": {},
     "output_type": "execute_result"
    }
   ],
   "source": [
    "train_df"
   ],
   "metadata": {
    "collapsed": false,
    "ExecuteTime": {
     "end_time": "2024-01-24T21:20:33.987767500Z",
     "start_time": "2024-01-24T21:20:33.923768400Z"
    }
   },
   "id": "94b7910eaf723303",
   "execution_count": 180
  },
  {
   "cell_type": "markdown",
   "source": [
    "Możemy teraz przejść do normalizacji danych."
   ],
   "metadata": {
    "collapsed": false
   },
   "id": "5178e1384a4aed81"
  },
  {
   "cell_type": "markdown",
   "source": [
    "# Zadanie 6"
   ],
   "metadata": {
    "collapsed": false
   },
   "id": "2bf1d063fb4cf23b"
  },
  {
   "cell_type": "markdown",
   "source": [
    "Wszystkie dane numerycznie muszą zostać znormalizowane. Dlaczego? Otóż podczas uczenia maszynowego zmienne numeryczne o większych wartościach mogą być postrzegane przez algorytm jako ważniejsze. By lepiej to wyjaśnić, posłużmy się tu przykładem z danych dotyczących pasażerów Titanica. Dana pasażerka o imieniu „Sandstrom, Miss. Marguerite Rut” szczęśliwie przeżyła katastrofę Titanica. Z danych jasno wynika, że zapłaciła za bilet 16.7, a w chwili podróży miała jedynie 4 lata. Algorytm uzna, że zdecydowanie większy wpływ na to, że udało jej się ocaleć miała cena biletu, co oczywiście nie musi być prawdą. Chyba każdy (zwłaszcza po obejrzeniu filmu „Titanic” Jamesa Camerona) jest w stanie postawić hipotezę, że największe szanse na przeżycie miały kobiety i dzieci… Właśnie dlatego należy dokonać normalizacji. Oczywiście, normalizacji powinniśmy dokonać dla zmiennych liczbowych (nie chcemy, by algorytm dokonywał normalizacji danych kategorycznych). Jako metodę użytą do transformacji danych wybierz „MinMax”."
   ],
   "metadata": {
    "collapsed": false
   },
   "id": "711c39cb332f8e9"
  },
  {
   "cell_type": "code",
   "outputs": [
    {
     "data": {
      "text/plain": "              Age       SibSp       Parch        Fare      Title         MPC\ncount  891.000000  891.000000  891.000000  891.000000  891.00000  891.000000\nmean     0.443917    0.065376    0.063599    0.117303    0.05275    0.289322\nstd      0.192976    0.137843    0.134343    0.146999    0.09958    0.151657\nmin      0.000000    0.000000    0.000000    0.000000    0.00000    0.000000\n25%      0.318182    0.000000    0.000000    0.031959    0.00000    0.176769\n50%      0.454545    0.000000    0.000000    0.058396    0.00000    0.280803\n75%      0.530303    0.125000    0.000000    0.125242    0.06250    0.410847\nmax      1.000000    1.000000    1.000000    1.000000    1.00000    1.000000",
      "text/html": "<div>\n<style scoped>\n    .dataframe tbody tr th:only-of-type {\n        vertical-align: middle;\n    }\n\n    .dataframe tbody tr th {\n        vertical-align: top;\n    }\n\n    .dataframe thead th {\n        text-align: right;\n    }\n</style>\n<table border=\"1\" class=\"dataframe\">\n  <thead>\n    <tr style=\"text-align: right;\">\n      <th></th>\n      <th>Age</th>\n      <th>SibSp</th>\n      <th>Parch</th>\n      <th>Fare</th>\n      <th>Title</th>\n      <th>MPC</th>\n    </tr>\n  </thead>\n  <tbody>\n    <tr>\n      <th>count</th>\n      <td>891.000000</td>\n      <td>891.000000</td>\n      <td>891.000000</td>\n      <td>891.000000</td>\n      <td>891.00000</td>\n      <td>891.000000</td>\n    </tr>\n    <tr>\n      <th>mean</th>\n      <td>0.443917</td>\n      <td>0.065376</td>\n      <td>0.063599</td>\n      <td>0.117303</td>\n      <td>0.05275</td>\n      <td>0.289322</td>\n    </tr>\n    <tr>\n      <th>std</th>\n      <td>0.192976</td>\n      <td>0.137843</td>\n      <td>0.134343</td>\n      <td>0.146999</td>\n      <td>0.09958</td>\n      <td>0.151657</td>\n    </tr>\n    <tr>\n      <th>min</th>\n      <td>0.000000</td>\n      <td>0.000000</td>\n      <td>0.000000</td>\n      <td>0.000000</td>\n      <td>0.00000</td>\n      <td>0.000000</td>\n    </tr>\n    <tr>\n      <th>25%</th>\n      <td>0.318182</td>\n      <td>0.000000</td>\n      <td>0.000000</td>\n      <td>0.031959</td>\n      <td>0.00000</td>\n      <td>0.176769</td>\n    </tr>\n    <tr>\n      <th>50%</th>\n      <td>0.454545</td>\n      <td>0.000000</td>\n      <td>0.000000</td>\n      <td>0.058396</td>\n      <td>0.00000</td>\n      <td>0.280803</td>\n    </tr>\n    <tr>\n      <th>75%</th>\n      <td>0.530303</td>\n      <td>0.125000</td>\n      <td>0.000000</td>\n      <td>0.125242</td>\n      <td>0.06250</td>\n      <td>0.410847</td>\n    </tr>\n    <tr>\n      <th>max</th>\n      <td>1.000000</td>\n      <td>1.000000</td>\n      <td>1.000000</td>\n      <td>1.000000</td>\n      <td>1.00000</td>\n      <td>1.000000</td>\n    </tr>\n  </tbody>\n</table>\n</div>"
     },
     "execution_count": 181,
     "metadata": {},
     "output_type": "execute_result"
    }
   ],
   "source": [
    "from sklearn.preprocessing import MinMaxScaler\n",
    "\n",
    "# Wybór kolumn numerycznych do normalizacji\n",
    "numeric_columns = train_df.select_dtypes(include=['float64', 'int64', 'int32']).columns\n",
    "\n",
    "# Ustawienie MinMaxScaler\n",
    "scaler = MinMaxScaler()\n",
    "\n",
    "# Dopasowanie i transformacja danych numerycznych\n",
    "train_df[numeric_columns] = scaler.fit_transform(train_df[numeric_columns])\n",
    "\n",
    "# Wyświetlenie pierwszych kilku wierszy po normalizacji\n",
    "normalized_data_head = train_df.describe()\n",
    "normalized_data_head"
   ],
   "metadata": {
    "collapsed": false,
    "ExecuteTime": {
     "end_time": "2024-01-24T21:20:33.988768400Z",
     "start_time": "2024-01-24T21:20:33.939768500Z"
    }
   },
   "id": "107c1ee3a469fd64",
   "execution_count": 181
  },
  {
   "cell_type": "code",
   "outputs": [
    {
     "name": "stdout",
     "output_type": "stream",
     "text": [
      "<class 'pandas.core.frame.DataFrame'>\n",
      "RangeIndex: 891 entries, 0 to 890\n",
      "Data columns (total 13 columns):\n",
      " #   Column       Non-Null Count  Dtype   \n",
      "---  ------       --------------  -----   \n",
      " 0   Survived     891 non-null    category\n",
      " 1   Pclass       891 non-null    category\n",
      " 2   Name         891 non-null    object  \n",
      " 3   Sex          891 non-null    category\n",
      " 4   Age          891 non-null    float64 \n",
      " 5   SibSp        891 non-null    float64 \n",
      " 6   Parch        891 non-null    float64 \n",
      " 7   Fare         891 non-null    float64 \n",
      " 8   Embarked     891 non-null    category\n",
      " 9   Title        891 non-null    float64 \n",
      " 10  Family.Size  891 non-null    category\n",
      " 11  Age.Range    891 non-null    category\n",
      " 12  MPC          891 non-null    float64 \n",
      "dtypes: category(6), float64(6), object(1)\n",
      "memory usage: 55.1+ KB\n"
     ]
    }
   ],
   "source": [
    "train_df.info()"
   ],
   "metadata": {
    "collapsed": false,
    "ExecuteTime": {
     "end_time": "2024-01-24T21:20:34.024768200Z",
     "start_time": "2024-01-24T21:20:33.954767800Z"
    }
   },
   "id": "3d037fee9cd5486f",
   "execution_count": 182
  },
  {
   "cell_type": "code",
   "outputs": [
    {
     "data": {
      "text/plain": "    Survived Pclass                                               Name Sex  \\\n0          0      3                            Braund, Mr. Owen Harris   0   \n1          1      1  Cumings, Mrs. John Bradley (Florence Briggs Th...   1   \n2          1      3                             Heikkinen, Miss. Laina   1   \n3          1      1       Futrelle, Mrs. Jacques Heath (Lily May Peel)   1   \n4          0      3                           Allen, Mr. William Henry   0   \n..       ...    ...                                                ...  ..   \n886        0      2                              Montvila, Rev. Juozas   0   \n887        1      1                       Graham, Miss. Margaret Edith   1   \n888        0      3           Johnston, Miss. Catherine Helen \"Carrie\"   1   \n889        1      1                              Behr, Mr. Karl Howell   0   \n890        0      3                                Dooley, Mr. Patrick   0   \n\n          Age  SibSp     Parch      Fare Embarked   Title Family.Size  \\\n0    0.333333  0.125  0.000000  0.029290        S  0.0000           2   \n1    0.575758  0.125  0.000000  0.287989        C  0.1250           2   \n2    0.393939  0.000  0.000000  0.032018        S  0.0625           1   \n3    0.530303  0.125  0.000000  0.214527        S  0.1250           2   \n4    0.530303  0.000  0.000000  0.032523        S  0.0000           1   \n..        ...    ...       ...       ...      ...     ...         ...   \n886  0.409091  0.000  0.000000  0.052521        S  0.3125           1   \n887  0.287879  0.000  0.000000  0.121202        S  0.0625           1   \n888  0.318182  0.125  0.333333  0.094740        S  0.0625           4   \n889  0.393939  0.000  0.000000  0.121202        C  0.0000           1   \n890  0.484848  0.000  0.000000  0.031310        Q  0.0000           1   \n\n    Age.Range       MPC  \n0           4  0.294373  \n1           4  0.167722  \n2           4  0.348652  \n3           4  0.154152  \n4           4  0.470780  \n..        ...       ...  \n886         4  0.240094  \n887         4  0.081780  \n888         4  0.291306  \n889         4  0.113443  \n890         4  0.430071  \n\n[891 rows x 13 columns]",
      "text/html": "<div>\n<style scoped>\n    .dataframe tbody tr th:only-of-type {\n        vertical-align: middle;\n    }\n\n    .dataframe tbody tr th {\n        vertical-align: top;\n    }\n\n    .dataframe thead th {\n        text-align: right;\n    }\n</style>\n<table border=\"1\" class=\"dataframe\">\n  <thead>\n    <tr style=\"text-align: right;\">\n      <th></th>\n      <th>Survived</th>\n      <th>Pclass</th>\n      <th>Name</th>\n      <th>Sex</th>\n      <th>Age</th>\n      <th>SibSp</th>\n      <th>Parch</th>\n      <th>Fare</th>\n      <th>Embarked</th>\n      <th>Title</th>\n      <th>Family.Size</th>\n      <th>Age.Range</th>\n      <th>MPC</th>\n    </tr>\n  </thead>\n  <tbody>\n    <tr>\n      <th>0</th>\n      <td>0</td>\n      <td>3</td>\n      <td>Braund, Mr. Owen Harris</td>\n      <td>0</td>\n      <td>0.333333</td>\n      <td>0.125</td>\n      <td>0.000000</td>\n      <td>0.029290</td>\n      <td>S</td>\n      <td>0.0000</td>\n      <td>2</td>\n      <td>4</td>\n      <td>0.294373</td>\n    </tr>\n    <tr>\n      <th>1</th>\n      <td>1</td>\n      <td>1</td>\n      <td>Cumings, Mrs. John Bradley (Florence Briggs Th...</td>\n      <td>1</td>\n      <td>0.575758</td>\n      <td>0.125</td>\n      <td>0.000000</td>\n      <td>0.287989</td>\n      <td>C</td>\n      <td>0.1250</td>\n      <td>2</td>\n      <td>4</td>\n      <td>0.167722</td>\n    </tr>\n    <tr>\n      <th>2</th>\n      <td>1</td>\n      <td>3</td>\n      <td>Heikkinen, Miss. Laina</td>\n      <td>1</td>\n      <td>0.393939</td>\n      <td>0.000</td>\n      <td>0.000000</td>\n      <td>0.032018</td>\n      <td>S</td>\n      <td>0.0625</td>\n      <td>1</td>\n      <td>4</td>\n      <td>0.348652</td>\n    </tr>\n    <tr>\n      <th>3</th>\n      <td>1</td>\n      <td>1</td>\n      <td>Futrelle, Mrs. Jacques Heath (Lily May Peel)</td>\n      <td>1</td>\n      <td>0.530303</td>\n      <td>0.125</td>\n      <td>0.000000</td>\n      <td>0.214527</td>\n      <td>S</td>\n      <td>0.1250</td>\n      <td>2</td>\n      <td>4</td>\n      <td>0.154152</td>\n    </tr>\n    <tr>\n      <th>4</th>\n      <td>0</td>\n      <td>3</td>\n      <td>Allen, Mr. William Henry</td>\n      <td>0</td>\n      <td>0.530303</td>\n      <td>0.000</td>\n      <td>0.000000</td>\n      <td>0.032523</td>\n      <td>S</td>\n      <td>0.0000</td>\n      <td>1</td>\n      <td>4</td>\n      <td>0.470780</td>\n    </tr>\n    <tr>\n      <th>...</th>\n      <td>...</td>\n      <td>...</td>\n      <td>...</td>\n      <td>...</td>\n      <td>...</td>\n      <td>...</td>\n      <td>...</td>\n      <td>...</td>\n      <td>...</td>\n      <td>...</td>\n      <td>...</td>\n      <td>...</td>\n      <td>...</td>\n    </tr>\n    <tr>\n      <th>886</th>\n      <td>0</td>\n      <td>2</td>\n      <td>Montvila, Rev. Juozas</td>\n      <td>0</td>\n      <td>0.409091</td>\n      <td>0.000</td>\n      <td>0.000000</td>\n      <td>0.052521</td>\n      <td>S</td>\n      <td>0.3125</td>\n      <td>1</td>\n      <td>4</td>\n      <td>0.240094</td>\n    </tr>\n    <tr>\n      <th>887</th>\n      <td>1</td>\n      <td>1</td>\n      <td>Graham, Miss. Margaret Edith</td>\n      <td>1</td>\n      <td>0.287879</td>\n      <td>0.000</td>\n      <td>0.000000</td>\n      <td>0.121202</td>\n      <td>S</td>\n      <td>0.0625</td>\n      <td>1</td>\n      <td>4</td>\n      <td>0.081780</td>\n    </tr>\n    <tr>\n      <th>888</th>\n      <td>0</td>\n      <td>3</td>\n      <td>Johnston, Miss. Catherine Helen \"Carrie\"</td>\n      <td>1</td>\n      <td>0.318182</td>\n      <td>0.125</td>\n      <td>0.333333</td>\n      <td>0.094740</td>\n      <td>S</td>\n      <td>0.0625</td>\n      <td>4</td>\n      <td>4</td>\n      <td>0.291306</td>\n    </tr>\n    <tr>\n      <th>889</th>\n      <td>1</td>\n      <td>1</td>\n      <td>Behr, Mr. Karl Howell</td>\n      <td>0</td>\n      <td>0.393939</td>\n      <td>0.000</td>\n      <td>0.000000</td>\n      <td>0.121202</td>\n      <td>C</td>\n      <td>0.0000</td>\n      <td>1</td>\n      <td>4</td>\n      <td>0.113443</td>\n    </tr>\n    <tr>\n      <th>890</th>\n      <td>0</td>\n      <td>3</td>\n      <td>Dooley, Mr. Patrick</td>\n      <td>0</td>\n      <td>0.484848</td>\n      <td>0.000</td>\n      <td>0.000000</td>\n      <td>0.031310</td>\n      <td>Q</td>\n      <td>0.0000</td>\n      <td>1</td>\n      <td>4</td>\n      <td>0.430071</td>\n    </tr>\n  </tbody>\n</table>\n<p>891 rows × 13 columns</p>\n</div>"
     },
     "execution_count": 183,
     "metadata": {},
     "output_type": "execute_result"
    }
   ],
   "source": [
    "train_df"
   ],
   "metadata": {
    "collapsed": false,
    "ExecuteTime": {
     "end_time": "2024-01-24T21:20:34.026767300Z",
     "start_time": "2024-01-24T21:20:33.970771200Z"
    }
   },
   "id": "50ae1c9d4eec5ee7",
   "execution_count": 183
  },
  {
   "cell_type": "markdown",
   "source": [
    "# Zadanie 7"
   ],
   "metadata": {
    "collapsed": false
   },
   "id": "e384ea26d3b2c703"
  },
  {
   "cell_type": "markdown",
   "source": [
    "Bez wątpienia mamy tu do czynienia z dwuklasowym problemem klasyfikacyjnym. W oparciu o podane atrybuty musimy wyznaczyć jedną z dwóch wartości: [0, 1], [Tak, Nie], [Prawda, Fałsz], itd. W naszym wypadku zmienną celu, której wartość chcemy przewidzieć, będzie kolumna „Survived”. Finalnie powinieneś wybrać maksymalnie 6-8 atrybutów które posłużą Ci jako predyktory. Z doświadczenia wiadomo, że przy takiej liczbie atrybutów, przy problemie klasyfikacyjnym najlepsze rezultaty daje drzewo decyzyjne lub las drzew losowych. Nie kończ jednak na tym poszukiwania „idealnego” algorytmu – spróbuj innych, dostępnych w pakiecie scikit-learn metod klasyfikacji. By porównywać wyniki jakie dają poszczególne algorytmy musisz podzielić dane na uczące i walidujące. Dane podziel w sposób losowy, przy czym niech 80% stanowią dane uczące. Następną kwestią jest wybór zmiennych predykcyjnych – spróbuj na początek użyć kolumn „Sex”, „Survived”, „Age”, „Age.Range”, „Pclass”, oraz „Fare”. Pozostaje Ci teraz nauczenie wybranych modeli (algorytmów) na danych treningowych (wykorzystaj podzbiór walidacyjny do tego, by sprawdzić, czy nie nastąpiło przeuczenie modelu), zweryfikowanie ich działania na danych testowych oraz porównanie otrzymanych wyników."
   ],
   "metadata": {
    "collapsed": false
   },
   "id": "fa627c315cbea393"
  },
  {
   "cell_type": "markdown",
   "source": [
    "\"na początek użyć kolumn „Sex”, „Survived”, „Age”, „Age.Range”, „Pclass”, oraz „Fare”\" - tu chyba jest błąd, bo Survived to zmienna celu, więc nie powinna być predyktaorem."
   ],
   "metadata": {
    "collapsed": false
   },
   "id": "87bbeab4fae88d5e"
  },
  {
   "cell_type": "code",
   "outputs": [],
   "source": [
    "from sklearn.model_selection import train_test_split\n",
    "from sklearn.metrics import accuracy_score, classification_report\n",
    "from sklearn.tree import DecisionTreeClassifier\n",
    "from sklearn.ensemble import RandomForestClassifier\n",
    "from sklearn.svm import SVC\n",
    "from sklearn.linear_model import LogisticRegression\n",
    "from sklearn.neighbors import KNeighborsClassifier"
   ],
   "metadata": {
    "collapsed": false,
    "ExecuteTime": {
     "end_time": "2024-01-24T21:20:34.070768100Z",
     "start_time": "2024-01-24T21:20:33.987767500Z"
    }
   },
   "id": "667be36664d85a14",
   "execution_count": 184
  },
  {
   "cell_type": "code",
   "outputs": [
    {
     "data": {
      "text/plain": "{'Decision Tree': 0.7597765363128491,\n 'Random Forest': 0.8324022346368715,\n 'SVM': 0.7821229050279329,\n 'Logistic Regression': 0.7877094972067039,\n 'KNN': 0.8100558659217877}"
     },
     "execution_count": 185,
     "metadata": {},
     "output_type": "execute_result"
    }
   ],
   "source": [
    "predictor_columns = ['Sex', 'Age', 'Pclass', 'Fare', 'Age.Range'] \n",
    "\n",
    "X = train_df[predictor_columns] \n",
    "y = train_df['Survived'] \n",
    "\n",
    "X_train, X_val, y_train, y_val = train_test_split(X, y, test_size=0.2, random_state=50) \n",
    "\n",
    "models_performance = {}\n",
    "\n",
    "models = {\n",
    "    \"Decision Tree\": DecisionTreeClassifier(),\n",
    "    \"Random Forest\": RandomForestClassifier(),\n",
    "    \"SVM\": SVC(),\n",
    "    \"Logistic Regression\": LogisticRegression(),\n",
    "    \"KNN\": KNeighborsClassifier()\n",
    "}\n",
    "\n",
    "for name, model in models.items():\n",
    "    model.fit(X_train, y_train)\n",
    "    y_pred = model.predict(X_val)\n",
    "    accuracy = accuracy_score(y_val, y_pred)\n",
    "    models_performance[name] = accuracy\n",
    "\n",
    "models_performance"
   ],
   "metadata": {
    "collapsed": false,
    "ExecuteTime": {
     "end_time": "2024-01-24T21:20:34.151768500Z",
     "start_time": "2024-01-24T21:20:34.002769Z"
    }
   },
   "id": "921b48669fd615cc",
   "execution_count": 185
  },
  {
   "cell_type": "markdown",
   "source": [
    "Dodajemy nowe atrybuty do zestawu predyktorów i ponownie trenujemy i oceniamy modele."
   ],
   "metadata": {
    "collapsed": false
   },
   "id": "337db506af598310"
  },
  {
   "cell_type": "code",
   "outputs": [
    {
     "data": {
      "text/plain": "{'Decision Tree': 0.776536312849162,\n 'Random Forest': 0.7877094972067039,\n 'SVM': 0.7988826815642458,\n 'Logistic Regression': 0.776536312849162,\n 'KNN': 0.7932960893854749}"
     },
     "execution_count": 186,
     "metadata": {},
     "output_type": "execute_result"
    }
   ],
   "source": [
    "predictor_columns = ['Sex', 'Age', 'SibSp', 'Fare', 'Family.Size', 'MPC']\n",
    "\n",
    "X = train_df[predictor_columns] \n",
    "y = train_df['Survived']\n",
    "\n",
    "X_train, X_val, y_train, y_val = train_test_split(X, y, test_size=0.2, random_state=50) \n",
    "\n",
    "models_performance = {}\n",
    "\n",
    "models = {\n",
    "    \"Decision Tree\": DecisionTreeClassifier(),\n",
    "    \"Random Forest\": RandomForestClassifier(),\n",
    "    \"SVM\": SVC(),\n",
    "    \"Logistic Regression\": LogisticRegression(),\n",
    "    \"KNN\": KNeighborsClassifier()\n",
    "}\n",
    "\n",
    "for name, model in models.items():\n",
    "    model.fit(X_train, y_train)\n",
    "    y_pred = model.predict(X_val)\n",
    "    accuracy = accuracy_score(y_val, y_pred)\n",
    "    models_performance[name] = accuracy\n",
    "\n",
    "models_performance"
   ],
   "metadata": {
    "collapsed": false,
    "ExecuteTime": {
     "end_time": "2024-01-24T21:20:34.219767300Z",
     "start_time": "2024-01-24T21:20:34.109767300Z"
    }
   },
   "id": "9216ac6b0fbb929c",
   "execution_count": 186
  },
  {
   "cell_type": "markdown",
   "source": [
    "Widzimy gorsze wyniki dla kilku modeli po dodaniu nowych atrybutów."
   ],
   "metadata": {
    "collapsed": false
   },
   "id": "92f455c486dfb77"
  },
  {
   "cell_type": "markdown",
   "source": [
    "Sprawdźmy jak to wygląda, jeśli dodamy nasze pomocnicze zmienne."
   ],
   "metadata": {
    "collapsed": false
   },
   "id": "1f90377b9ea98d38"
  },
  {
   "cell_type": "code",
   "outputs": [
    {
     "data": {
      "text/plain": "{'Decision Tree': 0.8100558659217877,\n 'Random Forest': 0.8268156424581006,\n 'SVM': 0.8212290502793296,\n 'Logistic Regression': 0.7877094972067039,\n 'KNN': 0.8044692737430168}"
     },
     "execution_count": 187,
     "metadata": {},
     "output_type": "execute_result"
    }
   ],
   "source": [
    "predictor_columns = ['Sex', 'Age', 'Pclass', 'Fare', 'Family.Size', 'MPC', 'Age.Range']\n",
    "\n",
    "X = train_df[predictor_columns]\n",
    "y = train_df['Survived']\n",
    "\n",
    "X_train, X_val, y_train, y_val = train_test_split(X, y, test_size=0.2, random_state=50) \n",
    "\n",
    "models_performance = {}\n",
    "\n",
    "models = {\n",
    "    \"Decision Tree\": DecisionTreeClassifier(),\n",
    "    \"Random Forest\": RandomForestClassifier(),\n",
    "    \"SVM\": SVC(),\n",
    "    \"Logistic Regression\": LogisticRegression(),\n",
    "    \"KNN\": KNeighborsClassifier()\n",
    "}\n",
    "\n",
    "for name, model in models.items():\n",
    "    model.fit(X_train, y_train)\n",
    "    y_pred = model.predict(X_val)\n",
    "    accuracy = accuracy_score(y_val, y_pred)\n",
    "    models_performance[name] = accuracy\n",
    "\n",
    "models_performance"
   ],
   "metadata": {
    "collapsed": false,
    "ExecuteTime": {
     "end_time": "2024-01-24T21:20:34.328768800Z",
     "start_time": "2024-01-24T21:20:34.218767Z"
    }
   },
   "id": "84aea0e5db8e45e9",
   "execution_count": 187
  },
  {
   "cell_type": "markdown",
   "source": [],
   "metadata": {
    "collapsed": false
   },
   "id": "691a6397582bd081"
  },
  {
   "cell_type": "markdown",
   "source": [
    "Po wielu próbach i modyfikacjach, najlepszy wynik jaki osiągnałem to 0.8324022346368715 dla modelu Random Forest z pierwszym zestawem atrybutów i wartością random_state ustawioną na 50. Początkowo ciężko było przekroczyć barierę 80%, ale poprawiłem niektóre etapy przygotowań. O dziwo najgorzej poraził sobie drugi zestaw atrybutów (gdzie dodałem nasze wszystkie zmienne pomocnicze)."
   ],
   "metadata": {
    "collapsed": false
   },
   "id": "47c6b1efab75b4ed"
  }
 ],
 "metadata": {
  "kernelspec": {
   "display_name": "Python 3",
   "language": "python",
   "name": "python3"
  },
  "language_info": {
   "codemirror_mode": {
    "name": "ipython",
    "version": 2
   },
   "file_extension": ".py",
   "mimetype": "text/x-python",
   "name": "python",
   "nbconvert_exporter": "python",
   "pygments_lexer": "ipython2",
   "version": "2.7.6"
  }
 },
 "nbformat": 4,
 "nbformat_minor": 5
}
